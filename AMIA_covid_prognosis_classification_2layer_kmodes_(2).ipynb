{
  "nbformat": 4,
  "nbformat_minor": 0,
  "metadata": {
    "kernelspec": {
      "display_name": "Python 3",
      "language": "python",
      "name": "python3"
    },
    "language_info": {
      "codemirror_mode": {
        "name": "ipython",
        "version": 3
      },
      "file_extension": ".py",
      "mimetype": "text/x-python",
      "name": "python",
      "nbconvert_exporter": "python",
      "pygments_lexer": "ipython3",
      "version": "3.8.6"
    },
    "colab": {
      "name": "AMIA_covid_prognosis_classification_2layer_kmodes (2).ipynb",
      "provenance": []
    }
  },
  "cells": [
    {
      "cell_type": "markdown",
      "metadata": {
        "id": "aaXPU2KcB8qL"
      },
      "source": [
        "## Setup & read in data"
      ]
    },
    {
      "cell_type": "code",
      "metadata": {
        "id": "lQ5jufYwB8qO"
      },
      "source": [
        "from sklearn import preprocessing, model_selection\n",
        "\n",
        "def preprocess(all_data):\n",
        "#     Split the dataset into features and labels (clusters) - so we can normalise the features but not the labels\n",
        "    all_X = all_data.iloc[:,2:len(all_data.columns)-1]\n",
        "    all_y = all_data['cluster']\n",
        "    \n",
        "    # normalise the data so we have unit variance and mean 0 using built-in preprocessing method in sklearn\n",
        "    scaler = preprocessing.StandardScaler()\n",
        "    all_X= pd.DataFrame(scaler.fit_transform(all_X),columns=all_X.columns)\n",
        "    \n",
        "#     reset the indexes otherwise it was breaking\n",
        "    all_X= all_X.reset_index()\n",
        "    all_y = all_y.reset_index()\n",
        "    all_X = all_X.drop(columns=['index'])\n",
        "    all_y = all_y.drop(columns=['index'])\n",
        "    \n",
        "    #prepare data for training a model by splitting into training and testing data \n",
        "    return (all_X, all_y)"
      ],
      "execution_count": 1,
      "outputs": []
    },
    {
      "cell_type": "markdown",
      "metadata": {
        "id": "oMGxo06aB8qP"
      },
      "source": [
        "## Classification setup"
      ]
    },
    {
      "cell_type": "code",
      "metadata": {
        "id": "bl6Y7uy9B8qP"
      },
      "source": [
        "#Set the class names\n",
        "class_names = [4,2,0,5]"
      ],
      "execution_count": 2,
      "outputs": []
    },
    {
      "cell_type": "markdown",
      "metadata": {
        "id": "UWNMO2PfB8qP"
      },
      "source": [
        "### setting up performance metrics calculations"
      ]
    },
    {
      "cell_type": "code",
      "metadata": {
        "id": "X4tclOlGB8qP"
      },
      "source": [
        "from sklearn import metrics\n",
        "#method to compute performance metrics \n",
        "def performance_metrics(y_true, y_pred):\n",
        "    #create a confusion matrix from results \n",
        "    cnf_matrix  = metrics.confusion_matrix(y_true, y_pred, labels=class_names, sample_weight=None)\n",
        "#     # average over all classes to find overall fp,fn,tp,tn\n",
        "#     FP = np.sum(cnf_matrix, axis=0) - np.diag(cnf_matrix)\n",
        "#     FN = np.sum(cnf_matrix, axis=1) - np.diag(cnf_matrix)\n",
        "#     TP = np.diag(cnf_matrix)\n",
        "#     TN = np.sum(cnf_matrix) - (FP + FN + TP)\n",
        "        \n",
        "    #find out if each predicted label is right \n",
        "    correct_labels = 0\n",
        "    for i, true_label in enumerate(y_true):\n",
        "        if (true_label == y_pred[i]):\n",
        "            correct_labels += 1\n",
        "\n",
        "    #calculate overall accuracy\n",
        "#     acc = np.round(correct_labels/y_pred.shape[0],2)\n",
        "        \n",
        "    # tp rate is the same as recall \n",
        "#     recall = np.sum(TP)/(np.sum(TP)+np.sum(FN))\n",
        "#     FP_rate = np.sum(FP)/(np.sum(FP)+np.sum(TN))  \n",
        "#     precision = np.sum(TP)/(np.sum(TP)+np.sum(FP)) \n",
        "#     f_measure = (2*precision*recall)/(precision + recall) \n",
        "\n",
        "    metrics_dict = metrics.classification_report(y_true,y_pred,output_dict=True)\n",
        "    avg_metrics = metrics_dict['macro avg']\n",
        "#     print(metrics_dict.values())\n",
        "    recall = avg_metrics['recall']\n",
        "    precision = avg_metrics['precision']\n",
        "    f_measure = avg_metrics['f1-score']\n",
        "    acc = metrics_dict['accuracy']\n",
        "    \n",
        "    print(metrics.classification_report(y_true,y_pred))\n",
        "    \n",
        "    return (acc, recall, precision, f_measure,\n",
        "            np.round(cnf_matrix/cnf_matrix.sum(axis=1), 2))\n"
      ],
      "execution_count": 3,
      "outputs": []
    },
    {
      "cell_type": "code",
      "metadata": {
        "id": "_4G6lzQLB8qQ"
      },
      "source": [
        "import seaborn as sn\n",
        "\n",
        "#method to plot the confusion matrix \n",
        "def plot_confusion_matrix(confusion_matrix, class_names):\n",
        "    conf_matrix = pd.DataFrame(confusion_matrix, index = [i for i in class_names], columns = [i for i in class_names])\n",
        "    plt.figure()\n",
        "    sn.set(font_scale=1.4) # for label size\n",
        "    sn.heatmap(conf_matrix, annot=True, annot_kws={\"size\": 16}, cmap=\"Blues\")\n",
        "    plt.show()"
      ],
      "execution_count": 4,
      "outputs": []
    },
    {
      "cell_type": "markdown",
      "metadata": {
        "id": "3AF69nokB8qQ"
      },
      "source": [
        "## k-fold cross validation"
      ]
    },
    {
      "cell_type": "markdown",
      "metadata": {
        "id": "ANmeHaCxB8qQ"
      },
      "source": [
        "Here we use k-fold cross validation to evaluate the effectiveness of our models, where each 'fold' results in a slightly different train/test split, allowing us to see how the model beaves with different data. We can compute various metrics about the model performance, and from these results, we can choose the most effective classification model."
      ]
    },
    {
      "cell_type": "code",
      "metadata": {
        "id": "vw-VZnOlB8qR"
      },
      "source": [
        "from sklearn import model_selection \n",
        "from sklearn import linear_model\n",
        "from sklearn import ensemble\n",
        "\n",
        "def cross_val(all_X, all_y, class_names, downsampling, upsampling, down_prop, up_prop, clf, printing):\n",
        "    print('cross-validating...')\n",
        "    k_val = 3\n",
        "    #use 3 splits \n",
        "    k_fold = model_selection.KFold(n_splits=k_val)\n",
        "    strat_k_fold = model_selection.StratifiedKFold(n_splits=k_val, shuffle=True)\n",
        "\n",
        "    #create empty arrays to store the results from each fold\n",
        "    #we can then average these to get the overall classifications and performance \n",
        "    accuracies = np.empty(k_val)\n",
        "    tp_rates = np.empty(k_val)\n",
        "    precisions = np.empty(k_val)\n",
        "    f_measures = np.empty(k_val)\n",
        "\n",
        "    count = 0\n",
        "\n",
        "    #split training data into training and validation sets\n",
        "    for train_indices, validation_indices in strat_k_fold.split(all_X, all_y):\n",
        "    #     print(X_train.index)\n",
        "        X_training = all_X.iloc[train_indices]\n",
        "        y_training = all_y.iloc[train_indices]\n",
        "        X_validate = all_X.iloc[validation_indices]\n",
        "        y_validate = all_y.iloc[validation_indices]\n",
        "        \n",
        "        # upsample the training data in each fold, if upsample = true\n",
        "        #with stratified k fold, better not to upsample, as it preserves percentage of samples for each class \n",
        "#         print('value counts: ', y_training.value_counts())\n",
        "\n",
        "        if(downsampling):\n",
        "#             print('downsampling...')\n",
        "            X_training, y_training = downsample(X_training, y_training, class_names, down_prop)\n",
        "            if (printing):\n",
        "                print('value counts: ', y_training.value_counts())\n",
        "\n",
        "        if (upsampling):\n",
        "#             print('upsampling...')\n",
        "            X_training, y_training = upsample(X_training, y_training, class_names, up_prop)\n",
        "            if (printing):\n",
        "                print('value counts:', y_training.value_counts())\n",
        "            \n",
        "        # fit classifier\n",
        "        clf.fit(X_training, y_training.values.ravel())\n",
        "        \n",
        "        #predict \n",
        "        y_predicted = clf.predict(X_validate)\n",
        "        y_true_val = y_validate.cluster\n",
        "        \n",
        "        #if we are using the decision tree classifier we may want to export the tree to look at it \n",
        "        from sklearn import tree\n",
        "\n",
        "        export_tree = False\n",
        "        if(export_tree):\n",
        "            for tree_in_forest in clf.estimators_:\n",
        "                if(export_tree):\n",
        "                    tree.export_graphviz(tree_in_forest, out_file=\"rotated_tree_eg.dot\",filled = True, \n",
        "                                         feature_names = X_training.columns, class_names=class_names,\n",
        "                                         rotate = True)\n",
        "        if (printing):\n",
        "            print(np.unique(y_predicted, return_counts=True))\n",
        "\n",
        "        #see how validation set performs \n",
        "        acc, recall, precision, f_measure, confusion_matrix = performance_metrics(y_true_val.values, y_predicted)\n",
        "\n",
        "        if (printing):\n",
        "            #print performance results for each fold\n",
        "            print(\"accuracy: \", acc)\n",
        "            print(\"true positive rate / recall: \", recall)\n",
        "            print(\"precision: \", precision)\n",
        "            print(\"f measure: \", f_measure)\n",
        "            plot_confusion_matrix(confusion_matrix, class_names)\n",
        "            print(\"----------\")\n",
        "\n",
        "        # store info for each fold \n",
        "        accuracies[count] = acc\n",
        "        tp_rates[count] = recall\n",
        "        precisions[count] = precision\n",
        "        f_measures[count] = f_measure\n",
        "        count+=1\n",
        "        \n",
        "        \n",
        "    #average scores\n",
        "    cv_acc = np.mean(accuracies)\n",
        "    cv_tp = np.mean(tp_rates)\n",
        "    cv_precision = np.mean(precisions)\n",
        "    cv_f_measure = np.mean(f_measures)\n",
        "\n",
        "\n",
        "    print(\"overall average performance:\")\n",
        "    print(\"accuracy: \", cv_acc)\n",
        "    print(\"true positive rate/recall: \", cv_tp)\n",
        "    print(\"precision: \", cv_precision)\n",
        "    print(\"f measure: \", cv_f_measure)\n",
        "    \n",
        "    return X_training, y_training, X_validate, y_validate, y_predicted, y_true_val, cv_f_measure\n"
      ],
      "execution_count": 5,
      "outputs": []
    },
    {
      "cell_type": "markdown",
      "metadata": {
        "id": "OxErmYYSB8qS"
      },
      "source": [
        "Method to perform grid search to find the best parameters for the random forest classifier, uses cross-val\n"
      ]
    },
    {
      "cell_type": "markdown",
      "metadata": {
        "id": "xpRfjI9kB8qU"
      },
      "source": [
        "Had to implement this manually due to library constraints and difficulties with upsampling properly inside gridsearch"
      ]
    },
    {
      "cell_type": "code",
      "metadata": {
        "id": "GVHi9HcnB8qU"
      },
      "source": [
        "from sklearn import model_selection, pipeline, ensemble\n",
        "\n",
        "def grid_search_rand_forest(data_X, data_y,class_names, downsampling, upsampling, down_prop, up_prop):\n",
        "\n",
        "    best_f = 0.0\n",
        "    \n",
        "    # gridsearch for parameter optimisation\n",
        "    param_grid = { \n",
        "        'n_estimators': [5, 10, 15, 20, 30, 40, 60, 80],\n",
        "        'max_depth': [5, 10, 15, None],\n",
        "        'max_features': ['auto', 'sqrt', 'log2'],\n",
        "        'min_samples_split': [2, 5, 10],\n",
        "        'criterion' :['gini', 'entropy']}\n",
        "    \n",
        "    for n_estimators in param_grid['n_estimators']:\n",
        "        for max_depth in param_grid['max_depth']:\n",
        "            for max_features in param_grid['max_features']:\n",
        "                for min_samples_split in param_grid['min_samples_split']:\n",
        "                    for criterion in param_grid['criterion']:\n",
        "                        clf = ensemble.RandomForestClassifier(n_estimators=n_estimators, max_depth=max_depth, max_features=max_features, \n",
        "                                               min_samples_split=min_samples_split, criterion=criterion)\n",
        "\n",
        "                        X_training, y_training, X_validate, y_validate, y_predicted, y_true_val, f_measure = cross_val(data_X, data_y, class_names, downsampling, upsampling, down_prop, up_prop, clf, printing=False)\n",
        "\n",
        "                        if(f_measure > best_f):\n",
        "                            best_f = f_measure\n",
        "                            best_clf = clf\n",
        "    \n",
        "    # Create grid search object\n",
        "#     clf = model_selection.GridSearchCV(estimator=ensemble.RandomForestClassifier(), param_grid = param_grid, cv = 3, verbose=True, n_jobs=-1)\n",
        "\n",
        "#     best_clf = clf.fit(data_X, data_y.values.ravel())\n",
        "\n",
        "#     gridsearch_results = pd.DataFrame(best_clf.cv_results_)\n",
        "\n",
        "    #sort according to overall rank score to find best params\n",
        "#     best_params_found = gridsearch_results.sort_values('rank_test_score').iloc[0]\n",
        "    print(best_clf)\n",
        "    \n",
        "    return best_clf"
      ],
      "execution_count": 6,
      "outputs": []
    },
    {
      "cell_type": "markdown",
      "metadata": {
        "id": "TxDGGJUlB8qV"
      },
      "source": [
        "## Rebalancing classes"
      ]
    },
    {
      "cell_type": "markdown",
      "metadata": {
        "id": "Jn4qtc8vB8qV"
      },
      "source": [
        "### Downsampling"
      ]
    },
    {
      "cell_type": "markdown",
      "metadata": {
        "id": "_INNHp0WB8qW"
      },
      "source": [
        "To address class imbalance by removing some examples in most numerous classes"
      ]
    },
    {
      "cell_type": "code",
      "metadata": {
        "id": "XVxuY_XIB8qW"
      },
      "source": [
        "def downsample(train_X, train_y, class_names, down_prop):\n",
        "    \n",
        "    train_data_and_labels = train_X.copy()\n",
        "    train_data_and_labels['cluster'] = train_y\n",
        "    \n",
        "    #find the largest class and the number of samples in training\n",
        "    value_counts = train_data_and_labels.cluster.value_counts()\n",
        "    max_val = max(value_counts)\n",
        "\n",
        "    most_numerous =  train_data_and_labels.cluster.value_counts().index[0]\n",
        "    big_cluster = train_data_and_labels[train_data_and_labels['cluster']==most_numerous]\n",
        "    new_train = train_data_and_labels[train_data_and_labels.cluster!=most_numerous]\n",
        "    #remove more individuals in largest class if limited classes, as class imbalance is bigger here\n",
        "    reduced_cluster = big_cluster.sample(replace=False, n=int(len(big_cluster)*down_prop), random_state=1)\n",
        "    train_down = new_train.append(reduced_cluster)\n",
        "    y_train_down = train_down['cluster']\n",
        "    X_train_down = train_down.iloc[:,0:len(train_down.columns)-1]        \n",
        "    \n",
        "    return X_train_down, y_train_down"
      ],
      "execution_count": 7,
      "outputs": []
    },
    {
      "cell_type": "markdown",
      "metadata": {
        "id": "3NfcUgVAB8qW"
      },
      "source": [
        "### Upsampling "
      ]
    },
    {
      "cell_type": "markdown",
      "metadata": {
        "id": "FS_HV00QB8qW"
      },
      "source": [
        "This improves the prediction accuracy for the classes containing fewer individuals."
      ]
    },
    {
      "cell_type": "code",
      "metadata": {
        "id": "hLri1nFLB8qW"
      },
      "source": [
        "#upsample the least numerous classes\n",
        "def upsample(train_X, train_y, class_names, up_prop):\n",
        "    \n",
        "    train_data_and_labels = train_X.copy()\n",
        "    train_data_and_labels['cluster'] = train_y\n",
        "\n",
        "    #find the largest class and the number of samples in training\n",
        "    value_counts = train_data_and_labels.cluster.value_counts()\n",
        "    max_val = max(value_counts)\n",
        "        \n",
        "    #upsampling all the classes in training data \n",
        "    for cluster in class_names:\n",
        "        cluster_vals = train_data_and_labels[train_data_and_labels.cluster==cluster]\n",
        "        num_in_cluster = len(cluster_vals.index)\n",
        "        num_extra_samples = int(up_prop*(max_val - num_in_cluster))\n",
        "        new_samples = cluster_vals.sample(replace=True, n=num_extra_samples, random_state=1)\n",
        "        train_data_and_labels = train_data_and_labels.append(new_samples)\n",
        "            \n",
        "#     print(train_data_and_labels.cluster.value_counts())\n",
        "    \n",
        "    X_train_up = train_data_and_labels.iloc[:,0:len(train_data_and_labels.columns)-1]\n",
        "    y_train_up = train_data_and_labels['cluster']\n",
        "    \n",
        "    return X_train_up, y_train_up"
      ],
      "execution_count": 8,
      "outputs": []
    },
    {
      "cell_type": "markdown",
      "metadata": {
        "id": "JXsgBS9cB8qW"
      },
      "source": [
        "## Two-axis clustering approach"
      ]
    },
    {
      "cell_type": "markdown",
      "metadata": {
        "id": "OaqtoBpsB8qW"
      },
      "source": [
        "We now classify using the two-step clustering approach. First we use the clusters found using chapter codes, and then we use subclusters based on discharge data to find nuanced subclusters inside these."
      ]
    },
    {
      "cell_type": "code",
      "metadata": {
        "id": "yj3XU3c5B8qX"
      },
      "source": [
        "import pandas as pd\n",
        "import sklearn\n",
        "import numpy as np\n",
        "import seaborn as sns\n",
        "import matplotlib.pyplot as plt   "
      ],
      "execution_count": 9,
      "outputs": []
    },
    {
      "cell_type": "code",
      "metadata": {
        "colab": {
          "base_uri": "https://localhost:8080/",
          "height": 443
        },
        "id": "Jn_lXpKkB8qX",
        "outputId": "e1ef4db1-dcf8-4609-e620-91973706be4c"
      },
      "source": [
        "#this is the data including imputed values for test results etc \n",
        "all_data = pd.read_csv('imputed_all_data.csv')\n",
        "parse_dates=['admission_date_structured']\n",
        "subclusters = pd.read_csv('subclusters.csv')\n",
        "# labels = pd.read_csv('chapter_codes_clusters3.csv')\n",
        "combined_clean = pd.read_csv('combined_clean.csv')"
      ],
      "execution_count": 10,
      "outputs": [
        {
          "output_type": "error",
          "ename": "FileNotFoundError",
          "evalue": "ignored",
          "traceback": [
            "\u001b[0;31m---------------------------------------------------------------------------\u001b[0m",
            "\u001b[0;31mFileNotFoundError\u001b[0m                         Traceback (most recent call last)",
            "\u001b[0;32m<ipython-input-10-cc93a039db0b>\u001b[0m in \u001b[0;36m<module>\u001b[0;34m()\u001b[0m\n\u001b[1;32m      1\u001b[0m \u001b[0;31m#this is the data including imputed values for test results etc\u001b[0m\u001b[0;34m\u001b[0m\u001b[0;34m\u001b[0m\u001b[0;34m\u001b[0m\u001b[0m\n\u001b[0;32m----> 2\u001b[0;31m \u001b[0mall_data\u001b[0m \u001b[0;34m=\u001b[0m \u001b[0mpd\u001b[0m\u001b[0;34m.\u001b[0m\u001b[0mread_csv\u001b[0m\u001b[0;34m(\u001b[0m\u001b[0;34m'imputed_all_data.csv'\u001b[0m\u001b[0;34m)\u001b[0m\u001b[0;34m\u001b[0m\u001b[0;34m\u001b[0m\u001b[0m\n\u001b[0m\u001b[1;32m      3\u001b[0m \u001b[0mparse_dates\u001b[0m\u001b[0;34m=\u001b[0m\u001b[0;34m[\u001b[0m\u001b[0;34m'admission_date_structured'\u001b[0m\u001b[0;34m]\u001b[0m\u001b[0;34m\u001b[0m\u001b[0;34m\u001b[0m\u001b[0m\n\u001b[1;32m      4\u001b[0m \u001b[0msubclusters\u001b[0m \u001b[0;34m=\u001b[0m \u001b[0mpd\u001b[0m\u001b[0;34m.\u001b[0m\u001b[0mread_csv\u001b[0m\u001b[0;34m(\u001b[0m\u001b[0;34m'subclusters.csv'\u001b[0m\u001b[0;34m)\u001b[0m\u001b[0;34m\u001b[0m\u001b[0;34m\u001b[0m\u001b[0m\n\u001b[1;32m      5\u001b[0m \u001b[0;31m# labels = pd.read_csv('chapter_codes_clusters3.csv')\u001b[0m\u001b[0;34m\u001b[0m\u001b[0;34m\u001b[0m\u001b[0;34m\u001b[0m\u001b[0m\n",
            "\u001b[0;32m/usr/local/lib/python3.7/dist-packages/pandas/io/parsers.py\u001b[0m in \u001b[0;36mread_csv\u001b[0;34m(filepath_or_buffer, sep, delimiter, header, names, index_col, usecols, squeeze, prefix, mangle_dupe_cols, dtype, engine, converters, true_values, false_values, skipinitialspace, skiprows, skipfooter, nrows, na_values, keep_default_na, na_filter, verbose, skip_blank_lines, parse_dates, infer_datetime_format, keep_date_col, date_parser, dayfirst, cache_dates, iterator, chunksize, compression, thousands, decimal, lineterminator, quotechar, quoting, doublequote, escapechar, comment, encoding, dialect, error_bad_lines, warn_bad_lines, delim_whitespace, low_memory, memory_map, float_precision)\u001b[0m\n\u001b[1;32m    686\u001b[0m     )\n\u001b[1;32m    687\u001b[0m \u001b[0;34m\u001b[0m\u001b[0m\n\u001b[0;32m--> 688\u001b[0;31m     \u001b[0;32mreturn\u001b[0m \u001b[0m_read\u001b[0m\u001b[0;34m(\u001b[0m\u001b[0mfilepath_or_buffer\u001b[0m\u001b[0;34m,\u001b[0m \u001b[0mkwds\u001b[0m\u001b[0;34m)\u001b[0m\u001b[0;34m\u001b[0m\u001b[0;34m\u001b[0m\u001b[0m\n\u001b[0m\u001b[1;32m    689\u001b[0m \u001b[0;34m\u001b[0m\u001b[0m\n\u001b[1;32m    690\u001b[0m \u001b[0;34m\u001b[0m\u001b[0m\n",
            "\u001b[0;32m/usr/local/lib/python3.7/dist-packages/pandas/io/parsers.py\u001b[0m in \u001b[0;36m_read\u001b[0;34m(filepath_or_buffer, kwds)\u001b[0m\n\u001b[1;32m    452\u001b[0m \u001b[0;34m\u001b[0m\u001b[0m\n\u001b[1;32m    453\u001b[0m     \u001b[0;31m# Create the parser.\u001b[0m\u001b[0;34m\u001b[0m\u001b[0;34m\u001b[0m\u001b[0;34m\u001b[0m\u001b[0m\n\u001b[0;32m--> 454\u001b[0;31m     \u001b[0mparser\u001b[0m \u001b[0;34m=\u001b[0m \u001b[0mTextFileReader\u001b[0m\u001b[0;34m(\u001b[0m\u001b[0mfp_or_buf\u001b[0m\u001b[0;34m,\u001b[0m \u001b[0;34m**\u001b[0m\u001b[0mkwds\u001b[0m\u001b[0;34m)\u001b[0m\u001b[0;34m\u001b[0m\u001b[0;34m\u001b[0m\u001b[0m\n\u001b[0m\u001b[1;32m    455\u001b[0m \u001b[0;34m\u001b[0m\u001b[0m\n\u001b[1;32m    456\u001b[0m     \u001b[0;32mif\u001b[0m \u001b[0mchunksize\u001b[0m \u001b[0;32mor\u001b[0m \u001b[0miterator\u001b[0m\u001b[0;34m:\u001b[0m\u001b[0;34m\u001b[0m\u001b[0;34m\u001b[0m\u001b[0m\n",
            "\u001b[0;32m/usr/local/lib/python3.7/dist-packages/pandas/io/parsers.py\u001b[0m in \u001b[0;36m__init__\u001b[0;34m(self, f, engine, **kwds)\u001b[0m\n\u001b[1;32m    946\u001b[0m             \u001b[0mself\u001b[0m\u001b[0;34m.\u001b[0m\u001b[0moptions\u001b[0m\u001b[0;34m[\u001b[0m\u001b[0;34m\"has_index_names\"\u001b[0m\u001b[0;34m]\u001b[0m \u001b[0;34m=\u001b[0m \u001b[0mkwds\u001b[0m\u001b[0;34m[\u001b[0m\u001b[0;34m\"has_index_names\"\u001b[0m\u001b[0;34m]\u001b[0m\u001b[0;34m\u001b[0m\u001b[0;34m\u001b[0m\u001b[0m\n\u001b[1;32m    947\u001b[0m \u001b[0;34m\u001b[0m\u001b[0m\n\u001b[0;32m--> 948\u001b[0;31m         \u001b[0mself\u001b[0m\u001b[0;34m.\u001b[0m\u001b[0m_make_engine\u001b[0m\u001b[0;34m(\u001b[0m\u001b[0mself\u001b[0m\u001b[0;34m.\u001b[0m\u001b[0mengine\u001b[0m\u001b[0;34m)\u001b[0m\u001b[0;34m\u001b[0m\u001b[0;34m\u001b[0m\u001b[0m\n\u001b[0m\u001b[1;32m    949\u001b[0m \u001b[0;34m\u001b[0m\u001b[0m\n\u001b[1;32m    950\u001b[0m     \u001b[0;32mdef\u001b[0m \u001b[0mclose\u001b[0m\u001b[0;34m(\u001b[0m\u001b[0mself\u001b[0m\u001b[0;34m)\u001b[0m\u001b[0;34m:\u001b[0m\u001b[0;34m\u001b[0m\u001b[0;34m\u001b[0m\u001b[0m\n",
            "\u001b[0;32m/usr/local/lib/python3.7/dist-packages/pandas/io/parsers.py\u001b[0m in \u001b[0;36m_make_engine\u001b[0;34m(self, engine)\u001b[0m\n\u001b[1;32m   1178\u001b[0m     \u001b[0;32mdef\u001b[0m \u001b[0m_make_engine\u001b[0m\u001b[0;34m(\u001b[0m\u001b[0mself\u001b[0m\u001b[0;34m,\u001b[0m \u001b[0mengine\u001b[0m\u001b[0;34m=\u001b[0m\u001b[0;34m\"c\"\u001b[0m\u001b[0;34m)\u001b[0m\u001b[0;34m:\u001b[0m\u001b[0;34m\u001b[0m\u001b[0;34m\u001b[0m\u001b[0m\n\u001b[1;32m   1179\u001b[0m         \u001b[0;32mif\u001b[0m \u001b[0mengine\u001b[0m \u001b[0;34m==\u001b[0m \u001b[0;34m\"c\"\u001b[0m\u001b[0;34m:\u001b[0m\u001b[0;34m\u001b[0m\u001b[0;34m\u001b[0m\u001b[0m\n\u001b[0;32m-> 1180\u001b[0;31m             \u001b[0mself\u001b[0m\u001b[0;34m.\u001b[0m\u001b[0m_engine\u001b[0m \u001b[0;34m=\u001b[0m \u001b[0mCParserWrapper\u001b[0m\u001b[0;34m(\u001b[0m\u001b[0mself\u001b[0m\u001b[0;34m.\u001b[0m\u001b[0mf\u001b[0m\u001b[0;34m,\u001b[0m \u001b[0;34m**\u001b[0m\u001b[0mself\u001b[0m\u001b[0;34m.\u001b[0m\u001b[0moptions\u001b[0m\u001b[0;34m)\u001b[0m\u001b[0;34m\u001b[0m\u001b[0;34m\u001b[0m\u001b[0m\n\u001b[0m\u001b[1;32m   1181\u001b[0m         \u001b[0;32melse\u001b[0m\u001b[0;34m:\u001b[0m\u001b[0;34m\u001b[0m\u001b[0;34m\u001b[0m\u001b[0m\n\u001b[1;32m   1182\u001b[0m             \u001b[0;32mif\u001b[0m \u001b[0mengine\u001b[0m \u001b[0;34m==\u001b[0m \u001b[0;34m\"python\"\u001b[0m\u001b[0;34m:\u001b[0m\u001b[0;34m\u001b[0m\u001b[0;34m\u001b[0m\u001b[0m\n",
            "\u001b[0;32m/usr/local/lib/python3.7/dist-packages/pandas/io/parsers.py\u001b[0m in \u001b[0;36m__init__\u001b[0;34m(self, src, **kwds)\u001b[0m\n\u001b[1;32m   2008\u001b[0m         \u001b[0mkwds\u001b[0m\u001b[0;34m[\u001b[0m\u001b[0;34m\"usecols\"\u001b[0m\u001b[0;34m]\u001b[0m \u001b[0;34m=\u001b[0m \u001b[0mself\u001b[0m\u001b[0;34m.\u001b[0m\u001b[0musecols\u001b[0m\u001b[0;34m\u001b[0m\u001b[0;34m\u001b[0m\u001b[0m\n\u001b[1;32m   2009\u001b[0m \u001b[0;34m\u001b[0m\u001b[0m\n\u001b[0;32m-> 2010\u001b[0;31m         \u001b[0mself\u001b[0m\u001b[0;34m.\u001b[0m\u001b[0m_reader\u001b[0m \u001b[0;34m=\u001b[0m \u001b[0mparsers\u001b[0m\u001b[0;34m.\u001b[0m\u001b[0mTextReader\u001b[0m\u001b[0;34m(\u001b[0m\u001b[0msrc\u001b[0m\u001b[0;34m,\u001b[0m \u001b[0;34m**\u001b[0m\u001b[0mkwds\u001b[0m\u001b[0;34m)\u001b[0m\u001b[0;34m\u001b[0m\u001b[0;34m\u001b[0m\u001b[0m\n\u001b[0m\u001b[1;32m   2011\u001b[0m         \u001b[0mself\u001b[0m\u001b[0;34m.\u001b[0m\u001b[0munnamed_cols\u001b[0m \u001b[0;34m=\u001b[0m \u001b[0mself\u001b[0m\u001b[0;34m.\u001b[0m\u001b[0m_reader\u001b[0m\u001b[0;34m.\u001b[0m\u001b[0munnamed_cols\u001b[0m\u001b[0;34m\u001b[0m\u001b[0;34m\u001b[0m\u001b[0m\n\u001b[1;32m   2012\u001b[0m \u001b[0;34m\u001b[0m\u001b[0m\n",
            "\u001b[0;32mpandas/_libs/parsers.pyx\u001b[0m in \u001b[0;36mpandas._libs.parsers.TextReader.__cinit__\u001b[0;34m()\u001b[0m\n",
            "\u001b[0;32mpandas/_libs/parsers.pyx\u001b[0m in \u001b[0;36mpandas._libs.parsers.TextReader._setup_parser_source\u001b[0;34m()\u001b[0m\n",
            "\u001b[0;31mFileNotFoundError\u001b[0m: [Errno 2] No such file or directory: 'imputed_all_data.csv'"
          ]
        }
      ]
    },
    {
      "cell_type": "code",
      "metadata": {
        "id": "vf9rn6wUB8qX"
      },
      "source": [
        "orig_data_and_labels_comorb = pd.merge(all_data, subclusters[['id','disch_4']],\n",
        "                           how='right', on='id')"
      ],
      "execution_count": null,
      "outputs": []
    },
    {
      "cell_type": "code",
      "metadata": {
        "id": "rB6KLzNDB8qX"
      },
      "source": [
        "#remove comorbidities \n",
        "orig_data_and_labels = orig_data_and_labels_comorb.drop(columns=['morbidity_Diabetes','morbidity_COPD',\n",
        "                                                                 'morbidity_Hypertension','morbidity_Heartdisease',\n",
        "                                                                 'morbidity_Renaldisease','morbidity_Tumor',\n",
        "                                                                 'morbidity_Metabolicdisorders',\n",
        "                                                                 'morbidity_Respiratorydiseases'])"
      ],
      "execution_count": null,
      "outputs": []
    },
    {
      "cell_type": "code",
      "metadata": {
        "id": "euzUKprdB8qX",
        "outputId": "cb98d6ff-7d2a-4e55-890e-4b76bd8f3ca2"
      },
      "source": [
        "orig_data_and_labels"
      ],
      "execution_count": null,
      "outputs": [
        {
          "output_type": "execute_result",
          "data": {
            "text/html": [
              "<div>\n",
              "<style scoped>\n",
              "    .dataframe tbody tr th:only-of-type {\n",
              "        vertical-align: middle;\n",
              "    }\n",
              "\n",
              "    .dataframe tbody tr th {\n",
              "        vertical-align: top;\n",
              "    }\n",
              "\n",
              "    .dataframe thead th {\n",
              "        text-align: right;\n",
              "    }\n",
              "</style>\n",
              "<table border=\"1\" class=\"dataframe\">\n",
              "  <thead>\n",
              "    <tr style=\"text-align: right;\">\n",
              "      <th></th>\n",
              "      <th>Unnamed: 0</th>\n",
              "      <th>id</th>\n",
              "      <th>Height</th>\n",
              "      <th>Weight</th>\n",
              "      <th>smoking_structured</th>\n",
              "      <th>age</th>\n",
              "      <th>blood_sugar_d1_min</th>\n",
              "      <th>blood_sugar_d1_max</th>\n",
              "      <th>blood_sugar_d3_min</th>\n",
              "      <th>blood_sugar_d3_max</th>\n",
              "      <th>...</th>\n",
              "      <th>AlbumintoGlobulinRatio</th>\n",
              "      <th>Male</th>\n",
              "      <th>Consciousness</th>\n",
              "      <th>Temperature</th>\n",
              "      <th>Respiratoryrate</th>\n",
              "      <th>Redcelldistributionwidth</th>\n",
              "      <th>SystolicBP</th>\n",
              "      <th>DiastolicBP</th>\n",
              "      <th>Lymphocyte(%)</th>\n",
              "      <th>disch_4</th>\n",
              "    </tr>\n",
              "  </thead>\n",
              "  <tbody>\n",
              "    <tr>\n",
              "      <th>0</th>\n",
              "      <td>0</td>\n",
              "      <td>100251</td>\n",
              "      <td>155.00000</td>\n",
              "      <td>60.0</td>\n",
              "      <td>0</td>\n",
              "      <td>62.0</td>\n",
              "      <td>4.660000</td>\n",
              "      <td>4.660000</td>\n",
              "      <td>4.925083</td>\n",
              "      <td>5.956664</td>\n",
              "      <td>...</td>\n",
              "      <td>1.382490</td>\n",
              "      <td>False</td>\n",
              "      <td>1.0</td>\n",
              "      <td>36.6</td>\n",
              "      <td>20.0</td>\n",
              "      <td>12.1</td>\n",
              "      <td>134.500000</td>\n",
              "      <td>68.500000</td>\n",
              "      <td>23.384615</td>\n",
              "      <td>3</td>\n",
              "    </tr>\n",
              "    <tr>\n",
              "      <th>1</th>\n",
              "      <td>1</td>\n",
              "      <td>101019</td>\n",
              "      <td>151.00000</td>\n",
              "      <td>63.0</td>\n",
              "      <td>0</td>\n",
              "      <td>72.0</td>\n",
              "      <td>5.300000</td>\n",
              "      <td>5.300000</td>\n",
              "      <td>3.902008</td>\n",
              "      <td>4.507097</td>\n",
              "      <td>...</td>\n",
              "      <td>1.129046</td>\n",
              "      <td>False</td>\n",
              "      <td>1.0</td>\n",
              "      <td>36.3</td>\n",
              "      <td>23.0</td>\n",
              "      <td>13.6</td>\n",
              "      <td>135.000000</td>\n",
              "      <td>80.000000</td>\n",
              "      <td>32.424242</td>\n",
              "      <td>3</td>\n",
              "    </tr>\n",
              "    <tr>\n",
              "      <th>2</th>\n",
              "      <td>2</td>\n",
              "      <td>102696</td>\n",
              "      <td>169.00000</td>\n",
              "      <td>80.0</td>\n",
              "      <td>0</td>\n",
              "      <td>63.0</td>\n",
              "      <td>5.190000</td>\n",
              "      <td>5.190000</td>\n",
              "      <td>5.538094</td>\n",
              "      <td>7.640623</td>\n",
              "      <td>...</td>\n",
              "      <td>1.367413</td>\n",
              "      <td>True</td>\n",
              "      <td>1.0</td>\n",
              "      <td>36.6</td>\n",
              "      <td>19.0</td>\n",
              "      <td>13.4</td>\n",
              "      <td>129.000000</td>\n",
              "      <td>91.000000</td>\n",
              "      <td>32.266155</td>\n",
              "      <td>3</td>\n",
              "    </tr>\n",
              "    <tr>\n",
              "      <th>3</th>\n",
              "      <td>3</td>\n",
              "      <td>101588</td>\n",
              "      <td>161.00000</td>\n",
              "      <td>57.0</td>\n",
              "      <td>0</td>\n",
              "      <td>39.0</td>\n",
              "      <td>4.939551</td>\n",
              "      <td>4.895466</td>\n",
              "      <td>4.694930</td>\n",
              "      <td>4.862858</td>\n",
              "      <td>...</td>\n",
              "      <td>1.125873</td>\n",
              "      <td>False</td>\n",
              "      <td>1.0</td>\n",
              "      <td>36.6</td>\n",
              "      <td>22.0</td>\n",
              "      <td>12.5</td>\n",
              "      <td>122.000000</td>\n",
              "      <td>74.500000</td>\n",
              "      <td>25.101747</td>\n",
              "      <td>3</td>\n",
              "    </tr>\n",
              "    <tr>\n",
              "      <th>4</th>\n",
              "      <td>4</td>\n",
              "      <td>100358</td>\n",
              "      <td>164.75961</td>\n",
              "      <td>65.0</td>\n",
              "      <td>0</td>\n",
              "      <td>62.0</td>\n",
              "      <td>5.793085</td>\n",
              "      <td>6.349398</td>\n",
              "      <td>5.576803</td>\n",
              "      <td>5.064091</td>\n",
              "      <td>...</td>\n",
              "      <td>1.006937</td>\n",
              "      <td>True</td>\n",
              "      <td>1.0</td>\n",
              "      <td>37.5</td>\n",
              "      <td>24.0</td>\n",
              "      <td>11.9</td>\n",
              "      <td>122.500000</td>\n",
              "      <td>80.000000</td>\n",
              "      <td>15.538462</td>\n",
              "      <td>3</td>\n",
              "    </tr>\n",
              "    <tr>\n",
              "      <th>...</th>\n",
              "      <td>...</td>\n",
              "      <td>...</td>\n",
              "      <td>...</td>\n",
              "      <td>...</td>\n",
              "      <td>...</td>\n",
              "      <td>...</td>\n",
              "      <td>...</td>\n",
              "      <td>...</td>\n",
              "      <td>...</td>\n",
              "      <td>...</td>\n",
              "      <td>...</td>\n",
              "      <td>...</td>\n",
              "      <td>...</td>\n",
              "      <td>...</td>\n",
              "      <td>...</td>\n",
              "      <td>...</td>\n",
              "      <td>...</td>\n",
              "      <td>...</td>\n",
              "      <td>...</td>\n",
              "      <td>...</td>\n",
              "      <td>...</td>\n",
              "    </tr>\n",
              "    <tr>\n",
              "      <th>2792</th>\n",
              "      <td>2792</td>\n",
              "      <td>101460</td>\n",
              "      <td>172.00000</td>\n",
              "      <td>72.0</td>\n",
              "      <td>0</td>\n",
              "      <td>49.0</td>\n",
              "      <td>4.340000</td>\n",
              "      <td>4.340000</td>\n",
              "      <td>5.230405</td>\n",
              "      <td>3.933495</td>\n",
              "      <td>...</td>\n",
              "      <td>1.560000</td>\n",
              "      <td>True</td>\n",
              "      <td>0.0</td>\n",
              "      <td>36.8</td>\n",
              "      <td>24.0</td>\n",
              "      <td>12.2</td>\n",
              "      <td>100.326822</td>\n",
              "      <td>66.389026</td>\n",
              "      <td>32.307692</td>\n",
              "      <td>3</td>\n",
              "    </tr>\n",
              "    <tr>\n",
              "      <th>2793</th>\n",
              "      <td>2793</td>\n",
              "      <td>100047</td>\n",
              "      <td>172.00000</td>\n",
              "      <td>75.0</td>\n",
              "      <td>0</td>\n",
              "      <td>45.0</td>\n",
              "      <td>4.091314</td>\n",
              "      <td>7.067830</td>\n",
              "      <td>4.062333</td>\n",
              "      <td>4.329303</td>\n",
              "      <td>...</td>\n",
              "      <td>1.263107</td>\n",
              "      <td>True</td>\n",
              "      <td>1.0</td>\n",
              "      <td>36.8</td>\n",
              "      <td>22.0</td>\n",
              "      <td>11.4</td>\n",
              "      <td>101.593761</td>\n",
              "      <td>78.039515</td>\n",
              "      <td>18.589744</td>\n",
              "      <td>3</td>\n",
              "    </tr>\n",
              "    <tr>\n",
              "      <th>2794</th>\n",
              "      <td>2794</td>\n",
              "      <td>103038</td>\n",
              "      <td>174.00000</td>\n",
              "      <td>72.0</td>\n",
              "      <td>0</td>\n",
              "      <td>56.0</td>\n",
              "      <td>4.330000</td>\n",
              "      <td>4.330000</td>\n",
              "      <td>5.489082</td>\n",
              "      <td>5.853361</td>\n",
              "      <td>...</td>\n",
              "      <td>1.460000</td>\n",
              "      <td>True</td>\n",
              "      <td>1.0</td>\n",
              "      <td>36.5</td>\n",
              "      <td>26.0</td>\n",
              "      <td>13.1</td>\n",
              "      <td>124.000000</td>\n",
              "      <td>76.000000</td>\n",
              "      <td>37.792496</td>\n",
              "      <td>3</td>\n",
              "    </tr>\n",
              "    <tr>\n",
              "      <th>2795</th>\n",
              "      <td>2795</td>\n",
              "      <td>100889</td>\n",
              "      <td>164.75961</td>\n",
              "      <td>80.0</td>\n",
              "      <td>0</td>\n",
              "      <td>74.0</td>\n",
              "      <td>4.040000</td>\n",
              "      <td>4.040000</td>\n",
              "      <td>4.339569</td>\n",
              "      <td>4.426759</td>\n",
              "      <td>...</td>\n",
              "      <td>1.150000</td>\n",
              "      <td>True</td>\n",
              "      <td>1.0</td>\n",
              "      <td>36.5</td>\n",
              "      <td>26.0</td>\n",
              "      <td>12.5</td>\n",
              "      <td>139.500000</td>\n",
              "      <td>100.500000</td>\n",
              "      <td>14.313725</td>\n",
              "      <td>3</td>\n",
              "    </tr>\n",
              "    <tr>\n",
              "      <th>2796</th>\n",
              "      <td>2796</td>\n",
              "      <td>100008</td>\n",
              "      <td>164.75961</td>\n",
              "      <td>80.0</td>\n",
              "      <td>0</td>\n",
              "      <td>37.0</td>\n",
              "      <td>5.499901</td>\n",
              "      <td>5.495763</td>\n",
              "      <td>5.074219</td>\n",
              "      <td>6.228706</td>\n",
              "      <td>...</td>\n",
              "      <td>1.464453</td>\n",
              "      <td>True</td>\n",
              "      <td>1.0</td>\n",
              "      <td>36.3</td>\n",
              "      <td>24.0</td>\n",
              "      <td>11.9</td>\n",
              "      <td>117.223687</td>\n",
              "      <td>67.975513</td>\n",
              "      <td>27.307692</td>\n",
              "      <td>3</td>\n",
              "    </tr>\n",
              "  </tbody>\n",
              "</table>\n",
              "<p>2797 rows × 52 columns</p>\n",
              "</div>"
            ],
            "text/plain": [
              "      Unnamed: 0      id     Height  Weight  smoking_structured   age  \\\n",
              "0              0  100251  155.00000    60.0                   0  62.0   \n",
              "1              1  101019  151.00000    63.0                   0  72.0   \n",
              "2              2  102696  169.00000    80.0                   0  63.0   \n",
              "3              3  101588  161.00000    57.0                   0  39.0   \n",
              "4              4  100358  164.75961    65.0                   0  62.0   \n",
              "...          ...     ...        ...     ...                 ...   ...   \n",
              "2792        2792  101460  172.00000    72.0                   0  49.0   \n",
              "2793        2793  100047  172.00000    75.0                   0  45.0   \n",
              "2794        2794  103038  174.00000    72.0                   0  56.0   \n",
              "2795        2795  100889  164.75961    80.0                   0  74.0   \n",
              "2796        2796  100008  164.75961    80.0                   0  37.0   \n",
              "\n",
              "      blood_sugar_d1_min  blood_sugar_d1_max  blood_sugar_d3_min  \\\n",
              "0               4.660000            4.660000            4.925083   \n",
              "1               5.300000            5.300000            3.902008   \n",
              "2               5.190000            5.190000            5.538094   \n",
              "3               4.939551            4.895466            4.694930   \n",
              "4               5.793085            6.349398            5.576803   \n",
              "...                  ...                 ...                 ...   \n",
              "2792            4.340000            4.340000            5.230405   \n",
              "2793            4.091314            7.067830            4.062333   \n",
              "2794            4.330000            4.330000            5.489082   \n",
              "2795            4.040000            4.040000            4.339569   \n",
              "2796            5.499901            5.495763            5.074219   \n",
              "\n",
              "      blood_sugar_d3_max  ...  AlbumintoGlobulinRatio   Male  Consciousness  \\\n",
              "0               5.956664  ...                1.382490  False            1.0   \n",
              "1               4.507097  ...                1.129046  False            1.0   \n",
              "2               7.640623  ...                1.367413   True            1.0   \n",
              "3               4.862858  ...                1.125873  False            1.0   \n",
              "4               5.064091  ...                1.006937   True            1.0   \n",
              "...                  ...  ...                     ...    ...            ...   \n",
              "2792            3.933495  ...                1.560000   True            0.0   \n",
              "2793            4.329303  ...                1.263107   True            1.0   \n",
              "2794            5.853361  ...                1.460000   True            1.0   \n",
              "2795            4.426759  ...                1.150000   True            1.0   \n",
              "2796            6.228706  ...                1.464453   True            1.0   \n",
              "\n",
              "      Temperature  Respiratoryrate  Redcelldistributionwidth  SystolicBP  \\\n",
              "0            36.6             20.0                      12.1  134.500000   \n",
              "1            36.3             23.0                      13.6  135.000000   \n",
              "2            36.6             19.0                      13.4  129.000000   \n",
              "3            36.6             22.0                      12.5  122.000000   \n",
              "4            37.5             24.0                      11.9  122.500000   \n",
              "...           ...              ...                       ...         ...   \n",
              "2792         36.8             24.0                      12.2  100.326822   \n",
              "2793         36.8             22.0                      11.4  101.593761   \n",
              "2794         36.5             26.0                      13.1  124.000000   \n",
              "2795         36.5             26.0                      12.5  139.500000   \n",
              "2796         36.3             24.0                      11.9  117.223687   \n",
              "\n",
              "      DiastolicBP  Lymphocyte(%)  disch_4  \n",
              "0       68.500000      23.384615        3  \n",
              "1       80.000000      32.424242        3  \n",
              "2       91.000000      32.266155        3  \n",
              "3       74.500000      25.101747        3  \n",
              "4       80.000000      15.538462        3  \n",
              "...           ...            ...      ...  \n",
              "2792    66.389026      32.307692        3  \n",
              "2793    78.039515      18.589744        3  \n",
              "2794    76.000000      37.792496        3  \n",
              "2795   100.500000      14.313725        3  \n",
              "2796    67.975513      27.307692        3  \n",
              "\n",
              "[2797 rows x 52 columns]"
            ]
          },
          "metadata": {
            "tags": []
          },
          "execution_count": 13
        }
      ]
    },
    {
      "cell_type": "markdown",
      "metadata": {
        "id": "zIw-MbIJB8qY"
      },
      "source": [
        "### Predicting based on chapter codes clusters"
      ]
    },
    {
      "cell_type": "code",
      "metadata": {
        "scrolled": true,
        "id": "5FxYP6V1B8qY",
        "outputId": "5867dfe6-e934-479d-bae0-bd090393dae5"
      },
      "source": [
        "orig_data_and_labels = orig_data_and_labels.rename(columns={'disch_4':'cluster'})\n",
        "orig_data_and_labels.cluster.value_counts()"
      ],
      "execution_count": null,
      "outputs": [
        {
          "output_type": "execute_result",
          "data": {
            "text/plain": [
              "3    2126\n",
              "0     285\n",
              "2     210\n",
              "1     176\n",
              "Name: cluster, dtype: int64"
            ]
          },
          "metadata": {
            "tags": []
          },
          "execution_count": 14
        }
      ]
    },
    {
      "cell_type": "markdown",
      "metadata": {
        "id": "I75tuJl8B8qY"
      },
      "source": [
        "Remove the largest cluster - this is the non-severe cluster "
      ]
    },
    {
      "cell_type": "code",
      "metadata": {
        "id": "0R-sKdxOB8qY"
      },
      "source": [
        "num_to_remove = 1\n",
        "# Remove the largest n clusters to focus on interesting ones \n",
        "\n",
        "value_counts = orig_data_and_labels.cluster.value_counts()\n",
        "value_counts_list = value_counts.index.to_list()\n",
        "interesting_clusters = value_counts_list[num_to_remove:len(value_counts)]\n",
        "\n",
        "data_and_labels = orig_data_and_labels.loc[orig_data_and_labels['cluster'].isin(interesting_clusters)]"
      ],
      "execution_count": null,
      "outputs": []
    },
    {
      "cell_type": "code",
      "metadata": {
        "id": "nkZvf0ZBB8qY",
        "outputId": "0e1bdef3-d69a-4a92-d14f-00c73eb436e0"
      },
      "source": [
        "data_and_labels.cluster.value_counts()"
      ],
      "execution_count": null,
      "outputs": [
        {
          "output_type": "execute_result",
          "data": {
            "text/plain": [
              "0    285\n",
              "2    210\n",
              "1    176\n",
              "Name: cluster, dtype: int64"
            ]
          },
          "metadata": {
            "tags": []
          },
          "execution_count": 16
        }
      ]
    },
    {
      "cell_type": "code",
      "metadata": {
        "id": "Jfh9-JT-B8qZ"
      },
      "source": [
        "chapters_all_X, chapters_all_y = preprocess(data_and_labels)"
      ],
      "execution_count": null,
      "outputs": []
    },
    {
      "cell_type": "code",
      "metadata": {
        "id": "CfBTqpDZB8qZ"
      },
      "source": [
        "#Set the class names\n",
        "class_names = [0,2,1]\n",
        "\n",
        "#need to do gridsearch with new rebalanced samples \n",
        "# clf = grid_search_rand_forest(chapters_all_X, chapters_all_y, class_names, downsampling=True, upsampling=True, down_prop=1, up_prop=0.8)\n",
        "\n",
        "#4 clusters\n",
        "clf = ensemble.RandomForestClassifier(criterion='entropy', max_depth=10, max_features='log2',\n",
        "                       n_estimators=30)\n",
        "#3 clusters\n",
        "# clf = ensemble.RandomForestClassifier(n_estimators=80, max_depth=None, max_features='sqrt', \n",
        "#                                       min_samples_split=5, criterion='gini')"
      ],
      "execution_count": null,
      "outputs": []
    },
    {
      "cell_type": "code",
      "metadata": {
        "id": "INhlhAEjB8qZ",
        "outputId": "af2b96bf-8c73-464e-fdad-2e8b297f1068"
      },
      "source": [
        "# class_names = orig_data_and_labels['cluster'].unique()\n",
        "X_training, y_training, X_validate, y_validate, y_predicted, y_true_val, cv_f_measure = cross_val(chapters_all_X, chapters_all_y, class_names, downsampling = False, upsampling=True, down_prop=1, up_prop=0.8, clf=clf, printing=False)"
      ],
      "execution_count": null,
      "outputs": [
        {
          "output_type": "stream",
          "text": [
            "cross-validating...\n",
            "              precision    recall  f1-score   support\n",
            "\n",
            "           0       0.44      0.56      0.49        95\n",
            "           1       0.33      0.20      0.25        59\n",
            "           2       0.35      0.34      0.35        70\n",
            "\n",
            "    accuracy                           0.40       224\n",
            "   macro avg       0.38      0.37      0.36       224\n",
            "weighted avg       0.39      0.40      0.38       224\n",
            "\n",
            "              precision    recall  f1-score   support\n",
            "\n",
            "           0       0.43      0.45      0.44        95\n",
            "           1       0.25      0.22      0.23        59\n",
            "           2       0.37      0.37      0.37        70\n",
            "\n",
            "    accuracy                           0.37       224\n",
            "   macro avg       0.35      0.35      0.35       224\n",
            "weighted avg       0.36      0.37      0.36       224\n",
            "\n",
            "              precision    recall  f1-score   support\n",
            "\n",
            "           0       0.46      0.47      0.47        95\n",
            "           1       0.33      0.24      0.28        58\n",
            "           2       0.35      0.41      0.38        70\n",
            "\n",
            "    accuracy                           0.39       223\n",
            "   macro avg       0.38      0.38      0.38       223\n",
            "weighted avg       0.39      0.39      0.39       223\n",
            "\n",
            "overall average performance:\n",
            "accuracy:  0.3860038970745248\n",
            "true positive rate/recall:  0.36421000875459636\n",
            "precision:  0.3675893932477996\n",
            "f measure:  0.3622681006734787\n"
          ],
          "name": "stdout"
        }
      ]
    },
    {
      "cell_type": "markdown",
      "metadata": {
        "id": "I5OBLCRAB8qZ"
      },
      "source": [
        "### Classification of stage 2 clusters"
      ]
    },
    {
      "cell_type": "code",
      "metadata": {
        "id": "xv3x7KcfB8qZ"
      },
      "source": [
        "# #this is the data including imputed values for test results etc \n",
        "all_data = pd.read_csv('imputed_all_data.csv')\n",
        "parse_dates=['admission_date_structured']\n",
        "# labels = pd.read_csv('chapter_codes_clusters3.csv')\n",
        "combined_clean = pd.read_csv('combined_clean.csv')"
      ],
      "execution_count": null,
      "outputs": []
    },
    {
      "cell_type": "code",
      "metadata": {
        "id": "nhm122_rB8qZ"
      },
      "source": [
        "subclusters = subclusters.rename(columns={'disch_4_sub_clusters':'cluster'})"
      ],
      "execution_count": null,
      "outputs": []
    },
    {
      "cell_type": "code",
      "metadata": {
        "id": "VhxIJmJAB8qZ",
        "outputId": "62cb468d-e5df-47eb-dd6f-99b19445e6c4"
      },
      "source": [
        "subclusters"
      ],
      "execution_count": null,
      "outputs": [
        {
          "output_type": "execute_result",
          "data": {
            "text/html": [
              "<div>\n",
              "<style scoped>\n",
              "    .dataframe tbody tr th:only-of-type {\n",
              "        vertical-align: middle;\n",
              "    }\n",
              "\n",
              "    .dataframe tbody tr th {\n",
              "        vertical-align: top;\n",
              "    }\n",
              "\n",
              "    .dataframe thead th {\n",
              "        text-align: right;\n",
              "    }\n",
              "</style>\n",
              "<table border=\"1\" class=\"dataframe\">\n",
              "  <thead>\n",
              "    <tr style=\"text-align: right;\">\n",
              "      <th></th>\n",
              "      <th>Unnamed: 0</th>\n",
              "      <th>id</th>\n",
              "      <th>disch_3</th>\n",
              "      <th>disch_3_sub_clusters</th>\n",
              "      <th>disch_4</th>\n",
              "      <th>cluster</th>\n",
              "    </tr>\n",
              "  </thead>\n",
              "  <tbody>\n",
              "    <tr>\n",
              "      <th>0</th>\n",
              "      <td>0</td>\n",
              "      <td>100251</td>\n",
              "      <td>1</td>\n",
              "      <td>1b</td>\n",
              "      <td>3</td>\n",
              "      <td>3a</td>\n",
              "    </tr>\n",
              "    <tr>\n",
              "      <th>1</th>\n",
              "      <td>1</td>\n",
              "      <td>101019</td>\n",
              "      <td>1</td>\n",
              "      <td>1d</td>\n",
              "      <td>3</td>\n",
              "      <td>3b</td>\n",
              "    </tr>\n",
              "    <tr>\n",
              "      <th>2</th>\n",
              "      <td>2</td>\n",
              "      <td>102696</td>\n",
              "      <td>1</td>\n",
              "      <td>1d</td>\n",
              "      <td>3</td>\n",
              "      <td>3b</td>\n",
              "    </tr>\n",
              "    <tr>\n",
              "      <th>3</th>\n",
              "      <td>3</td>\n",
              "      <td>101588</td>\n",
              "      <td>1</td>\n",
              "      <td>1d</td>\n",
              "      <td>3</td>\n",
              "      <td>3b</td>\n",
              "    </tr>\n",
              "    <tr>\n",
              "      <th>4</th>\n",
              "      <td>4</td>\n",
              "      <td>100358</td>\n",
              "      <td>1</td>\n",
              "      <td>1b</td>\n",
              "      <td>3</td>\n",
              "      <td>3a</td>\n",
              "    </tr>\n",
              "    <tr>\n",
              "      <th>...</th>\n",
              "      <td>...</td>\n",
              "      <td>...</td>\n",
              "      <td>...</td>\n",
              "      <td>...</td>\n",
              "      <td>...</td>\n",
              "      <td>...</td>\n",
              "    </tr>\n",
              "    <tr>\n",
              "      <th>2792</th>\n",
              "      <td>2792</td>\n",
              "      <td>101460</td>\n",
              "      <td>1</td>\n",
              "      <td>1d</td>\n",
              "      <td>3</td>\n",
              "      <td>3b</td>\n",
              "    </tr>\n",
              "    <tr>\n",
              "      <th>2793</th>\n",
              "      <td>2793</td>\n",
              "      <td>100047</td>\n",
              "      <td>1</td>\n",
              "      <td>1d</td>\n",
              "      <td>3</td>\n",
              "      <td>3b</td>\n",
              "    </tr>\n",
              "    <tr>\n",
              "      <th>2794</th>\n",
              "      <td>2794</td>\n",
              "      <td>103038</td>\n",
              "      <td>1</td>\n",
              "      <td>1b</td>\n",
              "      <td>3</td>\n",
              "      <td>3a</td>\n",
              "    </tr>\n",
              "    <tr>\n",
              "      <th>2795</th>\n",
              "      <td>2795</td>\n",
              "      <td>100889</td>\n",
              "      <td>1</td>\n",
              "      <td>1d</td>\n",
              "      <td>3</td>\n",
              "      <td>3b</td>\n",
              "    </tr>\n",
              "    <tr>\n",
              "      <th>2796</th>\n",
              "      <td>2796</td>\n",
              "      <td>100008</td>\n",
              "      <td>1</td>\n",
              "      <td>1b</td>\n",
              "      <td>3</td>\n",
              "      <td>3a</td>\n",
              "    </tr>\n",
              "  </tbody>\n",
              "</table>\n",
              "<p>2797 rows × 6 columns</p>\n",
              "</div>"
            ],
            "text/plain": [
              "      Unnamed: 0      id  disch_3 disch_3_sub_clusters  disch_4 cluster\n",
              "0              0  100251        1                   1b        3      3a\n",
              "1              1  101019        1                   1d        3      3b\n",
              "2              2  102696        1                   1d        3      3b\n",
              "3              3  101588        1                   1d        3      3b\n",
              "4              4  100358        1                   1b        3      3a\n",
              "...          ...     ...      ...                  ...      ...     ...\n",
              "2792        2792  101460        1                   1d        3      3b\n",
              "2793        2793  100047        1                   1d        3      3b\n",
              "2794        2794  103038        1                   1b        3      3a\n",
              "2795        2795  100889        1                   1d        3      3b\n",
              "2796        2796  100008        1                   1b        3      3a\n",
              "\n",
              "[2797 rows x 6 columns]"
            ]
          },
          "metadata": {
            "tags": []
          },
          "execution_count": 29
        }
      ]
    },
    {
      "cell_type": "code",
      "metadata": {
        "id": "wPUXaErdB8qa"
      },
      "source": [
        "orig_data_and_labels = pd.merge(all_data, subclusters[['id','cluster']],\n",
        "                           how='right', on='id')\n",
        "# orig_data_and_labels = pd.merge(all_data, sublabels_0,\n",
        "#                            how='right', on='id')"
      ],
      "execution_count": null,
      "outputs": []
    },
    {
      "cell_type": "code",
      "metadata": {
        "id": "yzP3Rfr5B8qa"
      },
      "source": [
        "#remove comorbidities \n",
        "orig_data_and_labels = orig_data_and_labels.drop(columns=['morbidity_Diabetes','morbidity_COPD',\n",
        "                                                                 'morbidity_Hypertension','morbidity_Heartdisease',\n",
        "                                                                 'morbidity_Renaldisease','morbidity_Tumor',\n",
        "                                                                 'morbidity_Metabolicdisorders',\n",
        "                                                                 'morbidity_Respiratorydiseases'])"
      ],
      "execution_count": null,
      "outputs": []
    },
    {
      "cell_type": "code",
      "metadata": {
        "id": "e7A7BhNfB8qa",
        "outputId": "13940f74-0ab8-4be1-c0e9-88a96bd5cf28"
      },
      "source": [
        "orig_data_and_labels"
      ],
      "execution_count": null,
      "outputs": [
        {
          "output_type": "execute_result",
          "data": {
            "text/html": [
              "<div>\n",
              "<style scoped>\n",
              "    .dataframe tbody tr th:only-of-type {\n",
              "        vertical-align: middle;\n",
              "    }\n",
              "\n",
              "    .dataframe tbody tr th {\n",
              "        vertical-align: top;\n",
              "    }\n",
              "\n",
              "    .dataframe thead th {\n",
              "        text-align: right;\n",
              "    }\n",
              "</style>\n",
              "<table border=\"1\" class=\"dataframe\">\n",
              "  <thead>\n",
              "    <tr style=\"text-align: right;\">\n",
              "      <th></th>\n",
              "      <th>Unnamed: 0</th>\n",
              "      <th>id</th>\n",
              "      <th>Height</th>\n",
              "      <th>Weight</th>\n",
              "      <th>smoking_structured</th>\n",
              "      <th>age</th>\n",
              "      <th>blood_sugar_d1_min</th>\n",
              "      <th>blood_sugar_d1_max</th>\n",
              "      <th>blood_sugar_d3_min</th>\n",
              "      <th>blood_sugar_d3_max</th>\n",
              "      <th>...</th>\n",
              "      <th>AlbumintoGlobulinRatio</th>\n",
              "      <th>Male</th>\n",
              "      <th>Consciousness</th>\n",
              "      <th>Temperature</th>\n",
              "      <th>Respiratoryrate</th>\n",
              "      <th>Redcelldistributionwidth</th>\n",
              "      <th>SystolicBP</th>\n",
              "      <th>DiastolicBP</th>\n",
              "      <th>Lymphocyte(%)</th>\n",
              "      <th>cluster</th>\n",
              "    </tr>\n",
              "  </thead>\n",
              "  <tbody>\n",
              "    <tr>\n",
              "      <th>0</th>\n",
              "      <td>0</td>\n",
              "      <td>100251</td>\n",
              "      <td>155.00000</td>\n",
              "      <td>60.0</td>\n",
              "      <td>0</td>\n",
              "      <td>62.0</td>\n",
              "      <td>4.660000</td>\n",
              "      <td>4.660000</td>\n",
              "      <td>4.925083</td>\n",
              "      <td>5.956664</td>\n",
              "      <td>...</td>\n",
              "      <td>1.382490</td>\n",
              "      <td>False</td>\n",
              "      <td>1.0</td>\n",
              "      <td>36.6</td>\n",
              "      <td>20.0</td>\n",
              "      <td>12.1</td>\n",
              "      <td>134.500000</td>\n",
              "      <td>68.500000</td>\n",
              "      <td>23.384615</td>\n",
              "      <td>3a</td>\n",
              "    </tr>\n",
              "    <tr>\n",
              "      <th>1</th>\n",
              "      <td>1</td>\n",
              "      <td>101019</td>\n",
              "      <td>151.00000</td>\n",
              "      <td>63.0</td>\n",
              "      <td>0</td>\n",
              "      <td>72.0</td>\n",
              "      <td>5.300000</td>\n",
              "      <td>5.300000</td>\n",
              "      <td>3.902008</td>\n",
              "      <td>4.507097</td>\n",
              "      <td>...</td>\n",
              "      <td>1.129046</td>\n",
              "      <td>False</td>\n",
              "      <td>1.0</td>\n",
              "      <td>36.3</td>\n",
              "      <td>23.0</td>\n",
              "      <td>13.6</td>\n",
              "      <td>135.000000</td>\n",
              "      <td>80.000000</td>\n",
              "      <td>32.424242</td>\n",
              "      <td>3b</td>\n",
              "    </tr>\n",
              "    <tr>\n",
              "      <th>2</th>\n",
              "      <td>2</td>\n",
              "      <td>102696</td>\n",
              "      <td>169.00000</td>\n",
              "      <td>80.0</td>\n",
              "      <td>0</td>\n",
              "      <td>63.0</td>\n",
              "      <td>5.190000</td>\n",
              "      <td>5.190000</td>\n",
              "      <td>5.538094</td>\n",
              "      <td>7.640623</td>\n",
              "      <td>...</td>\n",
              "      <td>1.367413</td>\n",
              "      <td>True</td>\n",
              "      <td>1.0</td>\n",
              "      <td>36.6</td>\n",
              "      <td>19.0</td>\n",
              "      <td>13.4</td>\n",
              "      <td>129.000000</td>\n",
              "      <td>91.000000</td>\n",
              "      <td>32.266155</td>\n",
              "      <td>3b</td>\n",
              "    </tr>\n",
              "    <tr>\n",
              "      <th>3</th>\n",
              "      <td>3</td>\n",
              "      <td>101588</td>\n",
              "      <td>161.00000</td>\n",
              "      <td>57.0</td>\n",
              "      <td>0</td>\n",
              "      <td>39.0</td>\n",
              "      <td>4.939551</td>\n",
              "      <td>4.895466</td>\n",
              "      <td>4.694930</td>\n",
              "      <td>4.862858</td>\n",
              "      <td>...</td>\n",
              "      <td>1.125873</td>\n",
              "      <td>False</td>\n",
              "      <td>1.0</td>\n",
              "      <td>36.6</td>\n",
              "      <td>22.0</td>\n",
              "      <td>12.5</td>\n",
              "      <td>122.000000</td>\n",
              "      <td>74.500000</td>\n",
              "      <td>25.101747</td>\n",
              "      <td>3b</td>\n",
              "    </tr>\n",
              "    <tr>\n",
              "      <th>4</th>\n",
              "      <td>4</td>\n",
              "      <td>100358</td>\n",
              "      <td>164.75961</td>\n",
              "      <td>65.0</td>\n",
              "      <td>0</td>\n",
              "      <td>62.0</td>\n",
              "      <td>5.793085</td>\n",
              "      <td>6.349398</td>\n",
              "      <td>5.576803</td>\n",
              "      <td>5.064091</td>\n",
              "      <td>...</td>\n",
              "      <td>1.006937</td>\n",
              "      <td>True</td>\n",
              "      <td>1.0</td>\n",
              "      <td>37.5</td>\n",
              "      <td>24.0</td>\n",
              "      <td>11.9</td>\n",
              "      <td>122.500000</td>\n",
              "      <td>80.000000</td>\n",
              "      <td>15.538462</td>\n",
              "      <td>3a</td>\n",
              "    </tr>\n",
              "    <tr>\n",
              "      <th>...</th>\n",
              "      <td>...</td>\n",
              "      <td>...</td>\n",
              "      <td>...</td>\n",
              "      <td>...</td>\n",
              "      <td>...</td>\n",
              "      <td>...</td>\n",
              "      <td>...</td>\n",
              "      <td>...</td>\n",
              "      <td>...</td>\n",
              "      <td>...</td>\n",
              "      <td>...</td>\n",
              "      <td>...</td>\n",
              "      <td>...</td>\n",
              "      <td>...</td>\n",
              "      <td>...</td>\n",
              "      <td>...</td>\n",
              "      <td>...</td>\n",
              "      <td>...</td>\n",
              "      <td>...</td>\n",
              "      <td>...</td>\n",
              "      <td>...</td>\n",
              "    </tr>\n",
              "    <tr>\n",
              "      <th>2792</th>\n",
              "      <td>2792</td>\n",
              "      <td>101460</td>\n",
              "      <td>172.00000</td>\n",
              "      <td>72.0</td>\n",
              "      <td>0</td>\n",
              "      <td>49.0</td>\n",
              "      <td>4.340000</td>\n",
              "      <td>4.340000</td>\n",
              "      <td>5.230405</td>\n",
              "      <td>3.933495</td>\n",
              "      <td>...</td>\n",
              "      <td>1.560000</td>\n",
              "      <td>True</td>\n",
              "      <td>0.0</td>\n",
              "      <td>36.8</td>\n",
              "      <td>24.0</td>\n",
              "      <td>12.2</td>\n",
              "      <td>100.326822</td>\n",
              "      <td>66.389026</td>\n",
              "      <td>32.307692</td>\n",
              "      <td>3b</td>\n",
              "    </tr>\n",
              "    <tr>\n",
              "      <th>2793</th>\n",
              "      <td>2793</td>\n",
              "      <td>100047</td>\n",
              "      <td>172.00000</td>\n",
              "      <td>75.0</td>\n",
              "      <td>0</td>\n",
              "      <td>45.0</td>\n",
              "      <td>4.091314</td>\n",
              "      <td>7.067830</td>\n",
              "      <td>4.062333</td>\n",
              "      <td>4.329303</td>\n",
              "      <td>...</td>\n",
              "      <td>1.263107</td>\n",
              "      <td>True</td>\n",
              "      <td>1.0</td>\n",
              "      <td>36.8</td>\n",
              "      <td>22.0</td>\n",
              "      <td>11.4</td>\n",
              "      <td>101.593761</td>\n",
              "      <td>78.039515</td>\n",
              "      <td>18.589744</td>\n",
              "      <td>3b</td>\n",
              "    </tr>\n",
              "    <tr>\n",
              "      <th>2794</th>\n",
              "      <td>2794</td>\n",
              "      <td>103038</td>\n",
              "      <td>174.00000</td>\n",
              "      <td>72.0</td>\n",
              "      <td>0</td>\n",
              "      <td>56.0</td>\n",
              "      <td>4.330000</td>\n",
              "      <td>4.330000</td>\n",
              "      <td>5.489082</td>\n",
              "      <td>5.853361</td>\n",
              "      <td>...</td>\n",
              "      <td>1.460000</td>\n",
              "      <td>True</td>\n",
              "      <td>1.0</td>\n",
              "      <td>36.5</td>\n",
              "      <td>26.0</td>\n",
              "      <td>13.1</td>\n",
              "      <td>124.000000</td>\n",
              "      <td>76.000000</td>\n",
              "      <td>37.792496</td>\n",
              "      <td>3a</td>\n",
              "    </tr>\n",
              "    <tr>\n",
              "      <th>2795</th>\n",
              "      <td>2795</td>\n",
              "      <td>100889</td>\n",
              "      <td>164.75961</td>\n",
              "      <td>80.0</td>\n",
              "      <td>0</td>\n",
              "      <td>74.0</td>\n",
              "      <td>4.040000</td>\n",
              "      <td>4.040000</td>\n",
              "      <td>4.339569</td>\n",
              "      <td>4.426759</td>\n",
              "      <td>...</td>\n",
              "      <td>1.150000</td>\n",
              "      <td>True</td>\n",
              "      <td>1.0</td>\n",
              "      <td>36.5</td>\n",
              "      <td>26.0</td>\n",
              "      <td>12.5</td>\n",
              "      <td>139.500000</td>\n",
              "      <td>100.500000</td>\n",
              "      <td>14.313725</td>\n",
              "      <td>3b</td>\n",
              "    </tr>\n",
              "    <tr>\n",
              "      <th>2796</th>\n",
              "      <td>2796</td>\n",
              "      <td>100008</td>\n",
              "      <td>164.75961</td>\n",
              "      <td>80.0</td>\n",
              "      <td>0</td>\n",
              "      <td>37.0</td>\n",
              "      <td>5.499901</td>\n",
              "      <td>5.495763</td>\n",
              "      <td>5.074219</td>\n",
              "      <td>6.228706</td>\n",
              "      <td>...</td>\n",
              "      <td>1.464453</td>\n",
              "      <td>True</td>\n",
              "      <td>1.0</td>\n",
              "      <td>36.3</td>\n",
              "      <td>24.0</td>\n",
              "      <td>11.9</td>\n",
              "      <td>117.223687</td>\n",
              "      <td>67.975513</td>\n",
              "      <td>27.307692</td>\n",
              "      <td>3a</td>\n",
              "    </tr>\n",
              "  </tbody>\n",
              "</table>\n",
              "<p>2797 rows × 52 columns</p>\n",
              "</div>"
            ],
            "text/plain": [
              "      Unnamed: 0      id     Height  Weight  smoking_structured   age  \\\n",
              "0              0  100251  155.00000    60.0                   0  62.0   \n",
              "1              1  101019  151.00000    63.0                   0  72.0   \n",
              "2              2  102696  169.00000    80.0                   0  63.0   \n",
              "3              3  101588  161.00000    57.0                   0  39.0   \n",
              "4              4  100358  164.75961    65.0                   0  62.0   \n",
              "...          ...     ...        ...     ...                 ...   ...   \n",
              "2792        2792  101460  172.00000    72.0                   0  49.0   \n",
              "2793        2793  100047  172.00000    75.0                   0  45.0   \n",
              "2794        2794  103038  174.00000    72.0                   0  56.0   \n",
              "2795        2795  100889  164.75961    80.0                   0  74.0   \n",
              "2796        2796  100008  164.75961    80.0                   0  37.0   \n",
              "\n",
              "      blood_sugar_d1_min  blood_sugar_d1_max  blood_sugar_d3_min  \\\n",
              "0               4.660000            4.660000            4.925083   \n",
              "1               5.300000            5.300000            3.902008   \n",
              "2               5.190000            5.190000            5.538094   \n",
              "3               4.939551            4.895466            4.694930   \n",
              "4               5.793085            6.349398            5.576803   \n",
              "...                  ...                 ...                 ...   \n",
              "2792            4.340000            4.340000            5.230405   \n",
              "2793            4.091314            7.067830            4.062333   \n",
              "2794            4.330000            4.330000            5.489082   \n",
              "2795            4.040000            4.040000            4.339569   \n",
              "2796            5.499901            5.495763            5.074219   \n",
              "\n",
              "      blood_sugar_d3_max  ...  AlbumintoGlobulinRatio   Male  Consciousness  \\\n",
              "0               5.956664  ...                1.382490  False            1.0   \n",
              "1               4.507097  ...                1.129046  False            1.0   \n",
              "2               7.640623  ...                1.367413   True            1.0   \n",
              "3               4.862858  ...                1.125873  False            1.0   \n",
              "4               5.064091  ...                1.006937   True            1.0   \n",
              "...                  ...  ...                     ...    ...            ...   \n",
              "2792            3.933495  ...                1.560000   True            0.0   \n",
              "2793            4.329303  ...                1.263107   True            1.0   \n",
              "2794            5.853361  ...                1.460000   True            1.0   \n",
              "2795            4.426759  ...                1.150000   True            1.0   \n",
              "2796            6.228706  ...                1.464453   True            1.0   \n",
              "\n",
              "      Temperature  Respiratoryrate  Redcelldistributionwidth  SystolicBP  \\\n",
              "0            36.6             20.0                      12.1  134.500000   \n",
              "1            36.3             23.0                      13.6  135.000000   \n",
              "2            36.6             19.0                      13.4  129.000000   \n",
              "3            36.6             22.0                      12.5  122.000000   \n",
              "4            37.5             24.0                      11.9  122.500000   \n",
              "...           ...              ...                       ...         ...   \n",
              "2792         36.8             24.0                      12.2  100.326822   \n",
              "2793         36.8             22.0                      11.4  101.593761   \n",
              "2794         36.5             26.0                      13.1  124.000000   \n",
              "2795         36.5             26.0                      12.5  139.500000   \n",
              "2796         36.3             24.0                      11.9  117.223687   \n",
              "\n",
              "      DiastolicBP  Lymphocyte(%)  cluster  \n",
              "0       68.500000      23.384615       3a  \n",
              "1       80.000000      32.424242       3b  \n",
              "2       91.000000      32.266155       3b  \n",
              "3       74.500000      25.101747       3b  \n",
              "4       80.000000      15.538462       3a  \n",
              "...           ...            ...      ...  \n",
              "2792    66.389026      32.307692       3b  \n",
              "2793    78.039515      18.589744       3b  \n",
              "2794    76.000000      37.792496       3a  \n",
              "2795   100.500000      14.313725       3b  \n",
              "2796    67.975513      27.307692       3a  \n",
              "\n",
              "[2797 rows x 52 columns]"
            ]
          },
          "metadata": {
            "tags": []
          },
          "execution_count": 32
        }
      ]
    },
    {
      "cell_type": "code",
      "metadata": {
        "id": "KeeyxOQuB8qa",
        "outputId": "8575e412-4b15-480c-a353-f2d6b2b0cd6f"
      },
      "source": [
        "orig_data_and_labels.cluster.value_counts()"
      ],
      "execution_count": null,
      "outputs": [
        {
          "output_type": "execute_result",
          "data": {
            "text/plain": [
              "3b    1281\n",
              "3a     845\n",
              "0a     150\n",
              "1b     131\n",
              "2b     120\n",
              "0c     113\n",
              "2a      90\n",
              "1a      45\n",
              "0b      22\n",
              "Name: cluster, dtype: int64"
            ]
          },
          "metadata": {
            "tags": []
          },
          "execution_count": 33
        }
      ]
    },
    {
      "cell_type": "code",
      "metadata": {
        "id": "iCYOzOFHB8qa"
      },
      "source": [
        "num_to_remove = 2\n",
        "# Remove the largest n clusters to focus on interesting ones \n",
        "\n",
        "value_counts = orig_data_and_labels.cluster.value_counts()\n",
        "value_counts_list = value_counts.index.to_list()\n",
        "interesting_clusters = value_counts_list[num_to_remove:len(value_counts)]\n",
        "\n",
        "data_and_labels = orig_data_and_labels.loc[orig_data_and_labels['cluster'].isin(interesting_clusters)]"
      ],
      "execution_count": null,
      "outputs": []
    },
    {
      "cell_type": "code",
      "metadata": {
        "id": "IpJ1Q9n9B8qb",
        "outputId": "c698fac9-7b11-4135-a7a5-f53aa219e8a5"
      },
      "source": [
        "data_and_labels.cluster.value_counts()"
      ],
      "execution_count": null,
      "outputs": [
        {
          "output_type": "execute_result",
          "data": {
            "text/plain": [
              "0a    150\n",
              "1b    131\n",
              "2b    120\n",
              "0c    113\n",
              "2a     90\n",
              "1a     45\n",
              "0b     22\n",
              "Name: cluster, dtype: int64"
            ]
          },
          "metadata": {
            "tags": []
          },
          "execution_count": 35
        }
      ]
    },
    {
      "cell_type": "markdown",
      "metadata": {
        "id": "z2WEH_1hB8qb"
      },
      "source": [
        "create new dataframe for each cluster, so we have separate classification problems \n",
        "\n",
        "0b/1a is most severe"
      ]
    },
    {
      "cell_type": "code",
      "metadata": {
        "id": "yjUxDCpuB8qb"
      },
      "source": [
        "c0a = data_and_labels[data_and_labels.cluster == '0a']\n",
        "c0b = data_and_labels[data_and_labels.cluster == '0b']\n",
        "c0c = data_and_labels[data_and_labels.cluster == '0c']\n",
        "c0 = pd.concat([c0a,c0b]).drop(columns={'Unnamed: 0'})\n",
        "c0 = pd.concat([c0,c0c]).drop(columns={'Unnamed: 0'})\n",
        "\n",
        "c1a = data_and_labels[data_and_labels.cluster == '1a']\n",
        "c1b = data_and_labels[data_and_labels.cluster == '1b']\n",
        "c1 = pd.concat([c1a,c1b]).drop(columns={'Unnamed: 0'})\n",
        "\n",
        "c2a = data_and_labels[data_and_labels.cluster == '2a']\n",
        "c2b = data_and_labels[data_and_labels.cluster == '2b']\n",
        "c2 = pd.concat([c2a,c2b]).drop(columns={'Unnamed: 0'})\n",
        "\n",
        "cSevere = pd.concat([c0b,c1a]).drop(columns={'Unnamed: 0'})"
      ],
      "execution_count": null,
      "outputs": []
    },
    {
      "cell_type": "code",
      "metadata": {
        "id": "zFnhiD-2B8qb"
      },
      "source": [
        "subchapters_all_X0, subchapters_all_y0 = preprocess(c0)\n",
        "subchapters_all_X1, subchapters_all_y1 = preprocess(c1)\n",
        "subchapters_all_X2, subchapters_all_y2 = preprocess(c2)\n",
        "subchapters_all_XSevere, subchapters_all_ySevere = preprocess(cSevere)"
      ],
      "execution_count": null,
      "outputs": []
    },
    {
      "cell_type": "markdown",
      "metadata": {
        "id": "6_1zVdTkB8qb"
      },
      "source": [
        "hyperparameters "
      ]
    },
    {
      "cell_type": "code",
      "metadata": {
        "id": "6Xo1vHRYB8qb"
      },
      "source": [
        "# class_names=subchapters_all_y0.cluster.unique()\n",
        "# clf0 = grid_search_rand_forest(subchapters_all_X0, subchapters_all_y0,class_names, downsampling=False, upsampling=True, down_prop=1, up_prop=0.8)\n",
        "# clf0 = ensemble.RandomForestClassifier(max_features='sqrt', min_samples_split=10,\n",
        "#                        n_estimators=20)\n",
        "\n",
        "# class_names=subchapters_all_y1.cluster.unique()\n",
        "# clf1 = grid_search_rand_forest(subchapters_all_X1, subchapters_all_y1,class_names, downsampling=False, upsampling=True, down_prop=1, up_prop=0.8)\n",
        "# clf1 = ensemble.RandomForestClassifier(max_depth=5, max_features='sqrt', min_samples_split=10,\n",
        "#                        n_estimators=20)\n",
        "\n",
        "# class_names=subchapters_all_y2.cluster.unique()\n",
        "# clf2 = grid_search_rand_forest(subchapters_all_X2, subchapters_all_y2,class_names, downsampling=False, upsampling=True, down_prop=1, up_prop=0.8)\n",
        "# clf2 = ensemble.RandomForestClassifier(max_features='log2', n_estimators=15)\n",
        "\n",
        "class_names=subchapters_all_ySevere.cluster.unique()\n",
        "# clfSevere = grid_search_rand_forest(subchapters_all_XSevere, subchapters_all_ySevere,class_names, downsampling=False, upsampling=True, down_prop=1, up_prop=0.8)\n",
        "clfSevere = ensemble.RandomForestClassifier(criterion='entropy', max_depth=10, max_features='sqrt',\n",
        "                       min_samples_split=5, n_estimators=5)"
      ],
      "execution_count": null,
      "outputs": []
    },
    {
      "cell_type": "markdown",
      "metadata": {
        "id": "oIzZwhbxB8qc"
      },
      "source": [
        "### Prediction"
      ]
    },
    {
      "cell_type": "code",
      "metadata": {
        "id": "VI_WcGZ0B8qc",
        "outputId": "ae2be407-665b-49ae-d58d-60b96d524db7"
      },
      "source": [
        "# class_names = subchapters_all_y0['cluster'].unique()\n",
        "# X_training, y_training, X_validate, y_validate, y_predicted, y_true_val, cv_f_measure = cross_val(subchapters_all_X0, subchapters_all_y0, class_names, \n",
        "#                                                            downsampling = True, upsampling=True,\n",
        "#                                                            down_prop = 1, up_prop = 0.8, clf=clf0, printing=False)\n",
        "\n",
        "# class_names = subchapters_all_y1['cluster'].unique()\n",
        "# X_training, y_training, X_validate, y_validate, y_predicted, y_true_val, cv_f_measure = cross_val(subchapters_all_X1, subchapters_all_y1, class_names, \n",
        "#                                                            downsampling = True, upsampling=True,\n",
        "#                                                            down_prop = 1, up_prop = 0.8, clf=clf1, printing=False)\n",
        "\n",
        "# class_names = subchapters_all_y2['cluster'].unique()\n",
        "# X_training, y_training, X_validate, y_validate, y_predicted, y_true_val, cv_f_measure = cross_val(subchapters_all_X2, subchapters_all_y2, class_names, \n",
        "#                                                            downsampling = True, upsampling=True,\n",
        "#                                                            down_prop = 1, up_prop = 0.8, clf=clf1, printing=False)\n",
        "\n",
        "class_names = subchapters_all_ySevere['cluster'].unique()\n",
        "X_training, y_training, X_validate, y_validate, y_predicted, y_true_val, cv_f_measure = cross_val(subchapters_all_XSevere, subchapters_all_ySevere, class_names, \n",
        "                                                           downsampling = True, upsampling=True,\n",
        "                                                           down_prop = 1, up_prop = 0.8, clf=clfSevere, printing=False)"
      ],
      "execution_count": null,
      "outputs": [
        {
          "output_type": "stream",
          "text": [
            "cross-validating...\n",
            "              precision    recall  f1-score   support\n",
            "\n",
            "          0b       0.43      0.38      0.40         8\n",
            "          1a       0.69      0.73      0.71        15\n",
            "\n",
            "    accuracy                           0.61        23\n",
            "   macro avg       0.56      0.55      0.55        23\n",
            "weighted avg       0.60      0.61      0.60        23\n",
            "\n",
            "              precision    recall  f1-score   support\n",
            "\n",
            "          0b       0.50      0.43      0.46         7\n",
            "          1a       0.75      0.80      0.77        15\n",
            "\n",
            "    accuracy                           0.68        22\n",
            "   macro avg       0.62      0.61      0.62        22\n",
            "weighted avg       0.67      0.68      0.67        22\n",
            "\n",
            "              precision    recall  f1-score   support\n",
            "\n",
            "          0b       0.25      0.14      0.18         7\n",
            "          1a       0.67      0.80      0.73        15\n",
            "\n",
            "    accuracy                           0.59        22\n",
            "   macro avg       0.46      0.47      0.45        22\n",
            "weighted avg       0.53      0.59      0.55        22\n",
            "\n",
            "overall average performance:\n",
            "accuracy:  0.6271409749670619\n",
            "true positive rate/recall:  0.5466269841269842\n",
            "precision:  0.5471230158730159\n",
            "f measure:  0.5424167230618844\n"
          ],
          "name": "stdout"
        }
      ]
    }
  ]
}