{
  "nbformat": 4,
  "nbformat_minor": 0,
  "metadata": {
    "kernelspec": {
      "display_name": "Python 3",
      "language": "python",
      "name": "python3"
    },
    "language_info": {
      "codemirror_mode": {
        "name": "ipython",
        "version": 3
      },
      "file_extension": ".py",
      "mimetype": "text/x-python",
      "name": "python",
      "nbconvert_exporter": "python",
      "pygments_lexer": "ipython3",
      "version": "3.8.6"
    },
    "colab": {
      "name": "2b_Layered-axes_KModes.ipynb",
      "provenance": []
    }
  },
  "cells": [
    {
      "cell_type": "code",
      "metadata": {
        "id": "J-MTkLylzCVs"
      },
      "source": [
        "import pandas as pd\n",
        "import numpy as np\n",
        "\n",
        "import sys\n",
        "!{sys.executable} -m pip install kmodes\n",
        "\n",
        "from kmodes.kmodes import KModes"
      ],
      "execution_count": null,
      "outputs": []
    },
    {
      "cell_type": "code",
      "metadata": {
        "id": "bS6T7ttPzCV0"
      },
      "source": [
        "def applyKModes(data, n_clusters = 6):\n",
        "    #data must be categorical \n",
        "    np.random.seed(666)\n",
        "    \n",
        "    categories = [col + ' - ' + str(i) for col in data.columns for i in data[col].unique() if i!= 0]\n",
        "    \n",
        "    #do 10 initialisations and take the best one\n",
        "    km = KModes(n_clusters=n_clusters, init='Huang', verbose=0, n_init = 10)\n",
        "    km.fit_predict(data)\n",
        "    \n",
        "    kmodes = km.cluster_centroids_\n",
        "    shape = kmodes.shape\n",
        "    clusters = {}\n",
        "    labels = km.labels_\n",
        "    count = 0\n",
        "    for i in range(shape[0]):\n",
        "        for j in range(data.shape[0]):\n",
        "            if labels[j] == i:\n",
        "                if i in clusters:\n",
        "                    clusters[i].append(j)\n",
        "                else:\n",
        "                    clusters[i] = [j]\n",
        "\n",
        "        if sum(kmodes[i,:]) == 0:\n",
        "            print(\"\\ncluster \" + str(i) + \": \" + str(len(clusters[i])) + ' patients')\n",
        "            print(\"Non-severe cluster\")\n",
        "        else:\n",
        "            print(\"\\ncluster \" + str(i) + \": \" + str(len(clusters[i])) + ' patients')\n",
        "            cent = kmodes[i,:]\n",
        "            for c, cat in zip(cent, categories):\n",
        "                if c:\n",
        "                    print(cat)\n",
        "        count += len(clusters[i])\n",
        "    \n",
        "    print('Final count: ' + str(count))\n",
        "    \n",
        "    return labels"
      ],
      "execution_count": null,
      "outputs": []
    },
    {
      "cell_type": "code",
      "metadata": {
        "id": "Q-EqO_MUzCV3"
      },
      "source": [
        "disch_chaps = pd.read_csv('discharge_chapters_simple.csv', usecols = ['Blood/Immune', 'Circulatory', \"Abnormal\", \"Musculoskeletal\", \"Genitourinary\", \"Nutritional\", \"Nervous\", \"Respiratory\", \"Digestive\"])\n",
        "disch_chaps = disch_chaps.applymap(lambda x:1 if x >= 1 else 0)\n",
        "disch_chaps.head()"
      ],
      "execution_count": null,
      "outputs": []
    },
    {
      "cell_type": "code",
      "metadata": {
        "id": "sTbPs4MozCV4"
      },
      "source": [
        "other_features = pd.read_csv('combined_clean.csv', usecols = ['id', 'ICU', 'death', 'Oxygen therapy - face mask', 'Oxygen therapy - high flow', 'Oxygen therapy - ventilator', 'Oxygen therapy - intubation', 'ECMO', 'Noninvasive ventilation', 'Invasive ventilation', 'los']).fillna(0)\n",
        "other_features.head()"
      ],
      "execution_count": null,
      "outputs": []
    },
    {
      "cell_type": "code",
      "metadata": {
        "id": "d00zJOQvzCV5"
      },
      "source": [
        "oxygen_therapies = pd.DataFrame(columns = ['Oxygen therapy - noninvasive', 'Oxygen therapy - invasive'])\n",
        "oxygen_therapies['Oxygen therapy - noninvasive'] = (other_features['Oxygen therapy - face mask'] + other_features['Oxygen therapy - high flow'] + other_features['Noninvasive ventilation']) > 0\n",
        "oxygen_therapies['Oxygen therapy - invasive'] = (other_features['Oxygen therapy - intubation'] + other_features['Oxygen therapy - ventilator'] + other_features['Invasive ventilation']) > 0"
      ],
      "execution_count": null,
      "outputs": []
    },
    {
      "cell_type": "code",
      "metadata": {
        "id": "eVuT_7q3zCV6"
      },
      "source": [
        "length_of_stay = pd.DataFrame(columns = ['id', 'los:2-4weeks', 'los:4weeks+'])\n",
        "length_of_stay.id = other_features.id\n",
        "for col in ['los:2-4weeks', 'los:4weeks+']:\n",
        "    length_of_stay[col].values[:] = False"
      ],
      "execution_count": null,
      "outputs": []
    },
    {
      "cell_type": "code",
      "metadata": {
        "id": "eksG9bXNzCV7"
      },
      "source": [
        "for id_num, length in zip(other_features.id, other_features.los):\n",
        "    if length in list(range(14, 28)):\n",
        "        length_of_stay.loc[length_of_stay.id == id_num, 'los:2-4weeks'] = True\n",
        "    elif length >= 28:\n",
        "        length_of_stay.loc[length_of_stay.id == id_num, 'los:4weeks+'] = True\n",
        "        \n",
        "length_of_stay.drop(columns = 'id', inplace = True)\n",
        "length_of_stay.head()"
      ],
      "execution_count": null,
      "outputs": []
    },
    {
      "cell_type": "code",
      "metadata": {
        "id": "w_6UdAlazCV8"
      },
      "source": [
        "secondary_features = pd.concat([other_features[['ICU', 'death', 'ECMO']], oxygen_therapies, length_of_stay], axis = 1)\n",
        "secondary_features.head()\n"
      ],
      "execution_count": null,
      "outputs": []
    },
    {
      "cell_type": "markdown",
      "metadata": {
        "id": "XY4ssM1jzCV8"
      },
      "source": [
        "# 1. Cluster on discharge codes only"
      ]
    },
    {
      "cell_type": "code",
      "metadata": {
        "id": "mSAAYrW-zCV9"
      },
      "source": [
        "disch_3 = applyKModes(disch_chaps, 3)"
      ],
      "execution_count": null,
      "outputs": []
    },
    {
      "cell_type": "code",
      "metadata": {
        "id": "oVZGUwDCzCV9"
      },
      "source": [
        "disch_4 = applyKModes(disch_chaps, 4)"
      ],
      "execution_count": null,
      "outputs": []
    },
    {
      "cell_type": "code",
      "metadata": {
        "id": "CrgTikwIzCV-"
      },
      "source": [
        "disch_6 = applyKModes(disch_chaps)"
      ],
      "execution_count": null,
      "outputs": []
    },
    {
      "cell_type": "code",
      "metadata": {
        "scrolled": true,
        "id": "4hle32O6zCV-"
      },
      "source": [
        "disch_8 = applyKModes(disch_chaps, 8)"
      ],
      "execution_count": null,
      "outputs": []
    },
    {
      "cell_type": "markdown",
      "metadata": {
        "id": "zo7y5kiqzCV_"
      },
      "source": [
        "# 2. Within cluster, clustering on other features"
      ]
    },
    {
      "cell_type": "markdown",
      "metadata": {
        "id": "EwrwHIufzCWA"
      },
      "source": [
        "## (a) disch_3"
      ]
    },
    {
      "cell_type": "code",
      "metadata": {
        "id": "giJFTsayzCWA"
      },
      "source": [
        "other_3_0 = secondary_features.loc[disch_3 == 0, :]\n",
        "other_3_1 = secondary_features.loc[disch_3 == 1, :]\n",
        "other_3_2 = secondary_features.loc[disch_3 == 2, :]"
      ],
      "execution_count": null,
      "outputs": []
    },
    {
      "cell_type": "code",
      "metadata": {
        "id": "jemJ5pqKzCWA"
      },
      "source": [
        "other_3_0_clusters = applyKModes(other_3_0, 3)"
      ],
      "execution_count": null,
      "outputs": []
    },
    {
      "cell_type": "code",
      "metadata": {
        "id": "EeaXvWrazCWB"
      },
      "source": [
        "other_3_1_clusters = applyKModes(other_3_1, 4)"
      ],
      "execution_count": null,
      "outputs": []
    },
    {
      "cell_type": "code",
      "metadata": {
        "id": "BFC8zxIBzCWB"
      },
      "source": [
        "other_3_2_clusters = applyKModes(other_3_2, 2)"
      ],
      "execution_count": null,
      "outputs": []
    },
    {
      "cell_type": "markdown",
      "metadata": {
        "id": "t62hyDgpzCWB"
      },
      "source": [
        "## (b) disch_4"
      ]
    },
    {
      "cell_type": "code",
      "metadata": {
        "id": "SHjhRQlJzCWC"
      },
      "source": [
        "other_4_0 = secondary_features.loc[disch_4 == 0, :]\n",
        "other_4_1 = secondary_features.loc[disch_4 == 1, :]\n",
        "other_4_2 = secondary_features.loc[disch_4 == 2, :]\n",
        "other_4_3 = secondary_features.loc[disch_4 == 3, :]"
      ],
      "execution_count": null,
      "outputs": []
    },
    {
      "cell_type": "code",
      "metadata": {
        "id": "2nKqFZv1zCWC"
      },
      "source": [
        "#Nutritional\n",
        "other_4_0_clusters = applyKModes(other_4_0, 3)"
      ],
      "execution_count": null,
      "outputs": []
    },
    {
      "cell_type": "code",
      "metadata": {
        "id": "DkZS1yJNzCWC"
      },
      "source": [
        "#respiratory\n",
        "other_4_1_clusters = applyKModes(other_4_1, 2)"
      ],
      "execution_count": null,
      "outputs": []
    },
    {
      "cell_type": "code",
      "metadata": {
        "id": "ApQXLVtlzCWD"
      },
      "source": [
        "#circulatory\n",
        "other_4_2_clusters = applyKModes(other_4_2, 2)"
      ],
      "execution_count": null,
      "outputs": []
    },
    {
      "cell_type": "code",
      "metadata": {
        "id": "UKI72UYFzCWD"
      },
      "source": [
        "#non-severe\n",
        "other_4_3_clusters = applyKModes(other_4_3, 2)"
      ],
      "execution_count": null,
      "outputs": []
    },
    {
      "cell_type": "markdown",
      "metadata": {
        "id": "CBzEFYzOzCWE"
      },
      "source": [
        "# Save clusters"
      ]
    },
    {
      "cell_type": "code",
      "metadata": {
        "id": "nJi8SMcCzCWE"
      },
      "source": [
        "count_0 = 0\n",
        "count_1 = 0\n",
        "count_2 = 0\n",
        "id_nums = other_features.id.to_list()\n",
        "sub_cluster_3_labels = []\n",
        "sub_cluster_names = {0:'a', 1:'b', 2:'c', 3:'d'}\n",
        "for j in range(2797):\n",
        "    cluster = disch_3[j]\n",
        "    if cluster == 0:\n",
        "        sub_cluster_3_labels.append('0' + sub_cluster_names[other_3_0_clusters[count_0]])\n",
        "        count_0 += 1\n",
        "    elif cluster == 1:\n",
        "        sub_cluster_3_labels.append('1' + sub_cluster_names[other_3_1_clusters[count_1]])\n",
        "        count_1 += 1\n",
        "    else:\n",
        "        sub_cluster_3_labels.append('2' + sub_cluster_names[other_3_2_clusters[count_2]])\n",
        "        count_2 += 1\n",
        "        \n",
        "print(count_0, count_1, count_2)"
      ],
      "execution_count": null,
      "outputs": []
    },
    {
      "cell_type": "code",
      "metadata": {
        "id": "hcqGvTprzCWF"
      },
      "source": [
        "count_0 = 0\n",
        "count_1 = 0\n",
        "count_2 = 0\n",
        "count_3 = 0\n",
        "sub_cluster_4_labels = []\n",
        "sub_cluster_names = {0:'a', 1:'b', 2:'c', 3:'d'}\n",
        "for j in range(2797):\n",
        "    cluster = disch_4[j]\n",
        "    if cluster == 0:\n",
        "        sub_cluster_4_labels.append('0' + sub_cluster_names[other_4_0_clusters[count_0]])\n",
        "        count_0 += 1\n",
        "    elif cluster == 1:\n",
        "        sub_cluster_4_labels.append('1' + sub_cluster_names[other_4_1_clusters[count_1]])\n",
        "        count_1 += 1\n",
        "    elif cluster == 2:\n",
        "        sub_cluster_4_labels.append('2' + sub_cluster_names[other_4_2_clusters[count_2]])\n",
        "        count_2 += 1\n",
        "    else:\n",
        "        sub_cluster_4_labels.append('3' + sub_cluster_names[other_4_3_clusters[count_3]])\n",
        "        count_3 += 1\n",
        "        \n",
        "print(count_0, count_1, count_2, count_3)"
      ],
      "execution_count": null,
      "outputs": []
    },
    {
      "cell_type": "code",
      "metadata": {
        "id": "wyPTGPWjzCWF"
      },
      "source": [
        "layered_axes_clusters = pd.DataFrame({'id':id_nums, 'disch_3':disch_3, 'disch_3_sub_clusters':sub_cluster_3_labels, 'disch_4':disch_4, 'disch_4_sub_clusters':sub_cluster_4_labels})\n",
        "layered_axes_clusters.head()"
      ],
      "execution_count": null,
      "outputs": []
    },
    {
      "cell_type": "code",
      "metadata": {
        "id": "vwU6MqmQzCWG"
      },
      "source": [
        "layered_axes_clusters.to_csv('layered_axes_clusters.csv')"
      ],
      "execution_count": null,
      "outputs": []
    }
  ]
}