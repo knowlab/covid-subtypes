{
  "nbformat": 4,
  "nbformat_minor": 0,
  "metadata": {
    "kernelspec": {
      "display_name": "Python 3",
      "language": "python",
      "name": "python3"
    },
    "language_info": {
      "codemirror_mode": {
        "name": "ipython",
        "version": 3
      },
      "file_extension": ".py",
      "mimetype": "text/x-python",
      "name": "python",
      "nbconvert_exporter": "python",
      "pygments_lexer": "ipython3",
      "version": "3.8.6"
    },
    "colab": {
      "name": "3_Cluster_Analysis.ipynb",
      "provenance": []
    }
  },
  "cells": [
    {
      "cell_type": "code",
      "metadata": {
        "id": "4teGbfmEz51l"
      },
      "source": [
        "import pandas as pd\n",
        "import numpy as np\n",
        "import matplotlib.pyplot as plt\n",
        "import seaborn as sns\n",
        "from scipy.spatial import distance\n",
        "from collections import Counter\n",
        "\n",
        "from mpl_toolkits.axes_grid1.axes_divider import make_axes_locatable"
      ],
      "execution_count": null,
      "outputs": []
    },
    {
      "cell_type": "code",
      "metadata": {
        "id": "qClBw51zz51w"
      },
      "source": [
        "#modules to handle icd codes\n",
        "import sys\n",
        "!{sys.executable} -m pip install icd10-cm\n",
        "!{sys.executable} -m pip install simple-icd-10\n",
        "import icd10\n",
        "import simple_icd_10 as icd"
      ],
      "execution_count": null,
      "outputs": []
    },
    {
      "cell_type": "code",
      "metadata": {
        "id": "QuCa6wahz51x"
      },
      "source": [
        "patients = pd.read_csv('discharge_chapters_simple.csv', index_col = 'index', usecols=['index', 'id', 'Ear', 'Blood/Immune', 'Circulatory', \"Abnormal Labs\", \"Musculoskeletal\", \"Genitourinary\", \"Mental\", \"Eye\", \"Skin\", \"Nutritional\", \"Nervous\", \"Respiratory\", \"Digestive\"])\n",
        "\n",
        "for col in ['Ear', 'Blood/Immune', 'Circulatory', \"Abnormal Labs\", \"Musculoskeletal\", \"Genitourinary\", \"Mental\", \"Eye\", \"Skin\", \"Nutritional\", \"Nervous\", \"Respiratory\", \"Digestive\"]:\n",
        "    patients[col] = patients[col].apply(lambda x: 1 if x > 0 else 0)\n",
        "    \n",
        "patients.head()"
      ],
      "execution_count": null,
      "outputs": []
    },
    {
      "cell_type": "code",
      "metadata": {
        "id": "qzsQhSnvz51y"
      },
      "source": [
        "#bring in other dataframes and map to see what the main features of each cluster are.\n",
        "symptoms = pd.read_csv('symptoms_id.csv', index_col = 'index')\n",
        "general = pd.read_csv('combined_clean.csv', index_col = 'index').fillna(0)"
      ],
      "execution_count": null,
      "outputs": []
    },
    {
      "cell_type": "code",
      "metadata": {
        "id": "iI_AchcCz51y"
      },
      "source": [
        "oxygen_therapies = pd.DataFrame(columns = ['OXY: noninvasive', 'OXY: invasive'])\n",
        "oxygen_therapies['OXY: noninvasive'] = (general['Oxygen therapy - face mask'] + general['Oxygen therapy - high flow'] + general['Noninvasive ventilation']) > 0\n",
        "oxygen_therapies['OXY: invasive'] = (general['Oxygen therapy - intubation'] + general['Oxygen therapy - ventilator'] + general['Invasive ventilation']) > 0\n",
        "oxygen_therapies = oxygen_therapies.applymap(lambda x: 1 if x else 0)"
      ],
      "execution_count": null,
      "outputs": []
    },
    {
      "cell_type": "code",
      "metadata": {
        "id": "6Mx9TZtRz51z"
      },
      "source": [
        "length_of_stay = pd.DataFrame(columns = ['id', 'LOS: 0-2weeks', 'LOS: 2-4weeks', 'LOS: 4weeks+'])\n",
        "length_of_stay.id = general.id\n",
        "for col in ['LOS: 0-2weeks', 'LOS: 2-4weeks', 'LOS: 4weeks+']:\n",
        "    length_of_stay[col].values[:] = 0\n",
        "    \n",
        "for id_num, length in zip(general.id, general.los):\n",
        "    if length in list(range(14, 28)):\n",
        "        length_of_stay.loc[length_of_stay.id == id_num, 'LOS: 2-4weeks'] = 1\n",
        "    elif length >= 28:\n",
        "        length_of_stay.loc[length_of_stay.id == id_num, 'LOS: 4weeks+'] = 1\n",
        "    else:\n",
        "        length_of_stay.loc[length_of_stay.id == id_num, 'LOS: 0-2weeks'] = 1\n",
        "        \n",
        "length_of_stay.drop(columns = 'id', inplace = True)\n",
        "length_of_stay.head()"
      ],
      "execution_count": null,
      "outputs": []
    },
    {
      "cell_type": "code",
      "metadata": {
        "id": "igcpXqcsz510"
      },
      "source": [
        "general = pd.concat([general, oxygen_therapies, length_of_stay], axis = 1)\n",
        "symptoms = pd.concat([symptoms, general[['morbidity_Diabetes', 'morbidity_COPD', 'morbidity_Hypertension', 'morbidity_Heart disease', 'morbidity_Renal disease', 'morbidity_Tumor', 'morbidity_Metabolic disorders', 'morbidity_Respiratory diseases']]], axis =1)"
      ],
      "execution_count": null,
      "outputs": []
    },
    {
      "cell_type": "code",
      "metadata": {
        "id": "drpos3Baz510"
      },
      "source": [
        "demographics = pd.DataFrame(columns=['id', 'male', 'age: 18-49', 'age: 50-64', 'age: 65+'])\n",
        "demographics.id = general.id\n",
        "demographics.male = general.Male\n",
        "for col in ['age: 18-49', 'age: 50-64', 'age: 65+']:\n",
        "    demographics[col].values[:] = 0\n",
        "demographics.head()"
      ],
      "execution_count": null,
      "outputs": []
    },
    {
      "cell_type": "code",
      "metadata": {
        "id": "zxhq6nMhz511"
      },
      "source": [
        "for id_num, age in zip(general.id, general.age):\n",
        "    if age in list(range(18, 50)):\n",
        "        demographics.loc[demographics.id == id_num, 'age: 18-49'] = 1\n",
        "    elif age in list(range(50, 65)):\n",
        "        demographics.loc[demographics.id == id_num, 'age: 50-64'] = 1\n",
        "    elif age >= 65:\n",
        "        demographics.loc[demographics.id == id_num, 'age: 65+'] = 1\n",
        "\n",
        "demographics.head()"
      ],
      "execution_count": null,
      "outputs": []
    },
    {
      "cell_type": "code",
      "metadata": {
        "id": "9uTh05x6z511"
      },
      "source": [
        "def getCells(nrows, ncolumns):#make cell dictionary\n",
        "    cells = {}\n",
        "    for j in range(nrows):\n",
        "        for i in range(ncolumns):\n",
        "            index = i + j*17 + 1\n",
        "            y = (j+1)*0.8660254\n",
        "            if j % 2:\n",
        "                x = i + 1\n",
        "            else:\n",
        "                x = i + 1.5\n",
        "            cells[index] = (x, y)\n",
        "    x = [x for (x, y) in cells.values()]\n",
        "    y = [y for (x, y) in cells.values()]\n",
        "    plt.scatter(x, y)\n",
        "\n",
        "    return(cells)"
      ],
      "execution_count": null,
      "outputs": []
    },
    {
      "cell_type": "code",
      "metadata": {
        "id": "OKBlVRgWz512"
      },
      "source": [
        "def makeClusterDict(cluster_mappings, n_clusters):\n",
        "    cluster_ids = {}\n",
        "    for id_num, mapping in zip(patients.id, cluster_mappings):\n",
        "        if mapping in cluster_ids.keys():\n",
        "            cluster_ids[mapping].append(id_num)\n",
        "        else:\n",
        "            cluster_ids[mapping] = [id_num]\n",
        "    return cluster_ids"
      ],
      "execution_count": null,
      "outputs": []
    },
    {
      "cell_type": "code",
      "metadata": {
        "id": "UvnY_tisz512"
      },
      "source": [
        "#function to get proportion of people in a cluster with a certain feature/mean value of feature for person in a cluster\n",
        "def mean_col(cluster_ids, cluster_num, col, df = symptoms):\n",
        "    #get patients in cluster\n",
        "    ids = cluster_ids[cluster_num]\n",
        "    #make a list of the feature value for those patients\n",
        "    data = []\n",
        "    for id_num, value in zip(df.id, df[col]):\n",
        "        if id_num in ids:\n",
        "            data.append(value)\n",
        "    \n",
        "    if data == []:\n",
        "        return 0\n",
        "    else:\n",
        "        return sum(data)/len(data)"
      ],
      "execution_count": null,
      "outputs": []
    },
    {
      "cell_type": "code",
      "metadata": {
        "id": "mmetr1GTz513"
      },
      "source": [
        "def rename_col(name):\n",
        "    if 'morbidity_' in name:\n",
        "        newname = 'MOR: ' + name[10:]\n",
        "        if newname.endswith('disease'):\n",
        "            newname = newname[:-8]\n",
        "        elif newname.endswith('diseases'):\n",
        "            newname = newname[:-9]\n",
        "        elif newname.endswith('disorders'):\n",
        "            newname = newname[:-10]\n",
        "        return newname \n",
        "    else: return name"
      ],
      "execution_count": null,
      "outputs": []
    },
    {
      "cell_type": "code",
      "metadata": {
        "id": "N-a86NHcz513"
      },
      "source": [
        "def getClusterInfo(cluster_mappings, n_clusters, cluster_names = [], title = '', return_cluster_ids = False, return_prevalences = False):\n",
        "    #first make a dictionary of patients assigned to each cluster\n",
        "    cluster_ids = makeClusterDict(cluster_mappings, n_clusters)\n",
        "    \n",
        "    if len(cluster_names) == 0:\n",
        "        cluster_names = list(cluster_ids.keys())\n",
        "    \n",
        "    min_clusters = cluster_mappings.min()\n",
        "    max_clusters = cluster_mappings.max()\n",
        "    #Then print a summary of the clusters\n",
        "    count = 0\n",
        "    for i in cluster_names:\n",
        "        print('There are ' + str(len(cluster_ids[i])) + ' patients in cluster ' + str(i) + '.')\n",
        "        count += len(cluster_ids[i])\n",
        "    print('There are ' + str(count) + ' patients altogether.')\n",
        "    \n",
        "\n",
        "    code_prevalence = pd.DataFrame(index = cluster_names, columns = ['Blood/Immune', 'Circulatory', \"Abnormal Labs\", \"Musculoskeletal\", \"Genitourinary\", \"Nutritional\", \"Nervous\", \"Respiratory\", \"Digestive\"])\n",
        "\n",
        "    general_prevalence = pd.DataFrame(index = cluster_names, columns = ['ICU', 'death', 'OXY: noninvasive', 'OXY: invasive', 'ECMO', 'los', 'LOS: 0-2weeks', 'LOS: 2-4weeks', 'LOS: 4weeks+'])\n",
        "    \n",
        "    demographic_prevalence = pd.DataFrame(index = cluster_names, columns = ['male', 'age: 18-49', 'age: 50-64', 'age: 65+'])\n",
        "    \n",
        "    for i in list(cluster_ids.keys()):\n",
        "        for col in demographic_prevalence.columns:\n",
        "            demographic_prevalence.loc[i, col] = mean_col(cluster_ids, i, col, demographics)\n",
        "        for col in code_prevalence.columns:\n",
        "            code_prevalence.loc[i, col] = mean_col(cluster_ids, i, col, patients)\n",
        "        for col in general_prevalence.columns:\n",
        "            general_prevalence.loc[i, col] = mean_col(cluster_ids, i, col, general)\n",
        "            \n",
        "    sns.set(font_scale=1.1)\n",
        "    #plot useful pictures\n",
        "    fig, (ax1, ax2, ax3) = plt.subplots(3, 1, sharex=True, figsize=(6, 15), gridspec_kw={'height_ratios':[1, 1, 1]})\n",
        "    fig.subplots_adjust(hspace=0.35)\n",
        "    #fig, (ax1, ax2, ax3) = plt.subplots(1, 3, sharey=True, figsize=(10, 4), gridspec_kw={'width_ratios': [3, 3, 5]})\n",
        "    if title:\n",
        "        fig.suptitle(title)\n",
        "    else:\n",
        "        fig.suptitle('Prevalence of binary features in each cluster''s patients')\n",
        "    \n",
        "    code_prevalence = code_prevalence.astype(float)\n",
        "    h1 = sns.heatmap(code_prevalence.T, vmin = 0, vmax = 1, cmap = \"magma_r\", cbar=False, ax = ax1)\n",
        "    ax1.set_ylabel('Location of deterioration indicators')\n",
        "    \n",
        "    # split axes of heatmap to put colorbar\n",
        "    ax_divider = make_axes_locatable(h1)\n",
        "    # define size and padding of axes for colorbar\n",
        "    cax = ax_divider.append_axes('top', size = '5%', pad = '2%')\n",
        "    # make colorbar for heatmap. \n",
        "    # Heatmap returns an axes obj but you need to get a mappable obj (get_children)\n",
        "    cb1 = fig.colorbar(h1.get_children()[0], cax = cax, orientation = 'horizontal')\n",
        "    # locate colorbar ticks\n",
        "    cax.xaxis.set_ticks_position('top')\n",
        "\n",
        "    \n",
        "    general_prevalence = general_prevalence.astype(float)\n",
        "    sns.heatmap(general_prevalence.drop(columns = ['los']).T, vmin = 0, vmax = 1, cmap = \"magma_r\", ax = ax2, cbar = False)\n",
        "    ax2.set_ylabel('Severity of deterioration indicators')\n",
        "  \n",
        "                                          \n",
        "    demographic_prevalence = demographic_prevalence.astype(float)\n",
        "    sns.heatmap(demographic_prevalence.T, vmin = 0, vmax = 1, cmap = \"magma_r\", ax = ax3, cbar = False)\n",
        "    ax3.set_xlabel('Cluster')\n",
        "    ax3.set_ylabel('Demographic information')\n",
        "    \n",
        "    plt.show()\n",
        "        \n",
        "      \n",
        "    #Plot age and length of stay histograms\n",
        "\n",
        "    if return_cluster_ids and return_prevalences:\n",
        "        return cluster_ids, demographic_prevalence, code_prevalence, general_prevalence\n",
        "    elif return_cluster_ids and not return_prevalences:\n",
        "        return cluster_ids\n",
        "    elif return_prevalences:\n",
        "        return demographic_prevalence, code_prevalence, general_prevalence"
      ],
      "execution_count": null,
      "outputs": []
    },
    {
      "cell_type": "markdown",
      "metadata": {
        "id": "N3ia1Uk9z515"
      },
      "source": [
        "Get discharge codes:"
      ]
    },
    {
      "cell_type": "code",
      "metadata": {
        "id": "o51b7W_wz515"
      },
      "source": [
        "discharge = pd.read_csv('../data/discharge_diags.csv')\n",
        "\n",
        "#drop nan\n",
        "discharge.dropna(axis = 0, subset = ['diag_code'], inplace = True)  \n",
        "discharge.drop_duplicates(inplace = True)\n",
        "\n",
        "discharge.head()"
      ],
      "execution_count": null,
      "outputs": []
    },
    {
      "cell_type": "code",
      "metadata": {
        "id": "DJzAUqFOz516"
      },
      "source": [
        "def trim_code(code):\n",
        "    '''Trim code until we get an actual discharge code.'''\n",
        "    if icd.is_valid_item(code[:5]) or icd10.exists(code[:5]):\n",
        "        if icd.is_valid_item(code[:6]) or icd10.exists(code[:6]):\n",
        "            return code[:6]\n",
        "        else: return code[:5]\n",
        "    elif icd.is_valid_item(code[:3]) or icd10.exists(code[:3]):\n",
        "        return code[:3]\n",
        "    else: return code[:5]"
      ],
      "execution_count": null,
      "outputs": []
    },
    {
      "cell_type": "markdown",
      "metadata": {
        "id": "2OFp3-PMz516"
      },
      "source": [
        "Make dictionary of all the actual code_mappings (some contain two!)"
      ]
    },
    {
      "cell_type": "code",
      "metadata": {
        "id": "RZIlSVdPz516"
      },
      "source": [
        "code_mappings = {}\n",
        "for code in list(discharge.diag_code.unique()):\n",
        "    if '+' in code:\n",
        "        [code1, code2] = code.split('+')\n",
        "        #in this case code2 normally ends with an '*'. Let's get rid\n",
        "        code2 = code2[:-1]\n",
        "        short_code1 = trim_code(code1)\n",
        "        short_code2 = trim_code(code2)\n",
        "        if code1 not in code_mappings.keys():\n",
        "            code_mappings[code1] = short_code1\n",
        "        if code2 not in code_mappings.keys():\n",
        "            code_mappings[code2] = short_code2\n",
        "        if code not in code_mappings.keys():\n",
        "            code_mappings[code] = [short_code1, short_code2]\n",
        "    else:\n",
        "        short_code = trim_code(code)\n",
        "        if code not in code_mappings.keys():\n",
        "            code_mappings[code] = short_code"
      ],
      "execution_count": null,
      "outputs": []
    },
    {
      "cell_type": "code",
      "metadata": {
        "id": "z8Hu3P0jz517"
      },
      "source": [
        "#Function to retrieve all the codes from patient's in a given cluster\n",
        "def getClusterCodes(cluster_ids, cluster_num):\n",
        "    #get patients in cluster\n",
        "    ids = cluster_ids[cluster_num]\n",
        "    #make a list of all the codes those patients have recorded\n",
        "    codes = []\n",
        "    for id_num, code in zip(discharge.id, discharge.diag_code):\n",
        "        if id_num in ids:\n",
        "            new_codes = code_mappings[code]\n",
        "            if len(new_codes) == 2:\n",
        "                codes += new_codes\n",
        "            else:\n",
        "                codes.append(new_codes)\n",
        "            \n",
        "    return codes"
      ],
      "execution_count": null,
      "outputs": []
    },
    {
      "cell_type": "code",
      "metadata": {
        "id": "L2GMTiqvz517"
      },
      "source": [
        "#For each cluster, print a summary of the 5 most common codes (excluding COVID).\n",
        "def summariseClusterCodes(cluster_ids, cluster_names):\n",
        "    ClusterCodes = {}\n",
        "    #iterate through clusters\n",
        "    for i in cluster_names:\n",
        "        codes = getClusterCodes(cluster_ids, i)\n",
        "        counts = Counter(codes)\n",
        "        ClusterCodes[i] = counts\n",
        "        \n",
        "        corona = ('U07.1', counts['U07.1']) in counts.most_common(5)\n",
        "        \n",
        "        #Check if coronavirus in top 5\n",
        "        if corona:\n",
        "            #need top 6\n",
        "            top5 = [(code, count) for code, count in counts.most_common(6) if code != 'U07.1']\n",
        "        else:\n",
        "            top5 = counts.most_common(5)\n",
        "        \n",
        "        #Print a summary\n",
        "        print('CLUSTER ' + str(i) + ': ' + str(len(cluster_ids[i])) + ' patients')\n",
        "        for code, count in top5:\n",
        "            if icd.is_valid_item(code):\n",
        "                description = icd.get_description(code)\n",
        "            elif icd10.exists(code):\n",
        "                description = icd10.find(code).description\n",
        "            else:\n",
        "                description = ''\n",
        "            print(str(count) + ' counts of ' + code + ' - ' + description) \n",
        "        print(str(counts['U07.1']) + ' counts of ' + 'U07.1 - COVID-19, virus identified')\n",
        "        \n",
        "    return ClusterCodes"
      ],
      "execution_count": null,
      "outputs": []
    },
    {
      "cell_type": "markdown",
      "metadata": {
        "id": "HKiKCDiSz517"
      },
      "source": [
        "# Analyse Clusters"
      ]
    },
    {
      "cell_type": "code",
      "metadata": {
        "id": "wTVeRzMmz518"
      },
      "source": [
        "mappings = pd.read_csv('kmodes_clusters.csv')\n",
        "mappings.drop(columns = 'Unnamed: 0', inplace = True)\n",
        "mappings.head()"
      ],
      "execution_count": null,
      "outputs": []
    },
    {
      "cell_type": "code",
      "metadata": {
        "id": "Y0uE2aaHz518"
      },
      "source": [
        "getClusterInfo(mappings.disch_los_6, 6, cluster_names = list(range(6)), title = 'Baseline K-Modes')\n",
        "#getClusterInfo(mappings.disch_4_sub_clusters, 9, cluster_names = ['0a', '0b', '0c', '1a', '1b', '2a', '2b', '3a', '3b'], title = 'Layered Axes K-Modes')\n",
        "#getClusterInfo(mappings.clusters_8, 10, cluster_names = list(range(-1, 9)), title = 'Prognosis Space DBSCAN')"
      ],
      "execution_count": null,
      "outputs": []
    },
    {
      "cell_type": "code",
      "metadata": {
        "scrolled": true,
        "id": "y98u6vpbz519"
      },
      "source": [
        "#clusterIds = makeClusterDict(mappings.clusters_0_4, 9)\n",
        "#summariseClusterCodes(clusterIds, list(range(9)))"
      ],
      "execution_count": null,
      "outputs": []
    }
  ]
}