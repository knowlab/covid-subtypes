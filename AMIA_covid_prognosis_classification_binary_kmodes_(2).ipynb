{
  "nbformat": 4,
  "nbformat_minor": 0,
  "metadata": {
    "kernelspec": {
      "display_name": "Python 3",
      "language": "python",
      "name": "python3"
    },
    "language_info": {
      "codemirror_mode": {
        "name": "ipython",
        "version": 3
      },
      "file_extension": ".py",
      "mimetype": "text/x-python",
      "name": "python",
      "nbconvert_exporter": "python",
      "pygments_lexer": "ipython3",
      "version": "3.8.6"
    },
    "colab": {
      "name": "AMIA_covid_prognosis_classification_binary_kmodes (2).ipynb",
      "provenance": []
    }
  },
  "cells": [
    {
      "cell_type": "markdown",
      "metadata": {
        "id": "KzwtFLZ8B_NR"
      },
      "source": [
        "## Setup & read in data"
      ]
    },
    {
      "cell_type": "code",
      "metadata": {
        "id": "bLkR0ZSqB_NR"
      },
      "source": [
        "import pandas as pd\n",
        "import sklearn\n",
        "import numpy as np\n",
        "import seaborn as sns\n",
        "import matplotlib.pyplot as plt   "
      ],
      "execution_count": null,
      "outputs": []
    },
    {
      "cell_type": "code",
      "metadata": {
        "id": "v6m-2rlVB_NS"
      },
      "source": [
        "#this is the data including imputed values for test results etc \n",
        "all_data = pd.read_csv('imputed_all_data.csv')\n",
        "parse_dates=['admission_date_structured']\n",
        "labels = pd.read_csv('disch_los_k_modes_6.csv')\n",
        "combined_clean = pd.read_csv('combined_clean.csv')\n"
      ],
      "execution_count": null,
      "outputs": []
    },
    {
      "cell_type": "code",
      "metadata": {
        "id": "pbE-4OZAB_NS"
      },
      "source": [
        "orig_data_and_labels_comorb = pd.merge(all_data, labels,\n",
        "                           how='right', on='id')"
      ],
      "execution_count": null,
      "outputs": []
    },
    {
      "cell_type": "code",
      "metadata": {
        "id": "fHI27DYCB_NT",
        "outputId": "fda0f161-0e2d-4cdf-d35a-81ae25c0d03a"
      },
      "source": [
        "orig_data_and_labels_comorb.columns"
      ],
      "execution_count": null,
      "outputs": [
        {
          "output_type": "execute_result",
          "data": {
            "text/plain": [
              "Index(['Unnamed: 0', 'id', 'Height', 'Weight', 'smoking_structured', 'age',\n",
              "       'blood_sugar_d1_min', 'blood_sugar_d1_max', 'blood_sugar_d3_min',\n",
              "       'blood_sugar_d3_max', 'SystolicBP_d1_min', 'SystolicBP_d1_max',\n",
              "       'SystolicBP_d3_min', 'SystolicBP_d3_max', 'DiastolicBP_d1_min',\n",
              "       'DiastolicBP_d1_max', 'DiastolicBP_d3_min', 'DiastolicBP_d3_max',\n",
              "       'Pulse_d1_average', 'Pulse_d3_average', 'Oxygensaturation',\n",
              "       'Bloodoxygensaturation_d3_average', 'whitebloodcell', 'Neutrophilcount',\n",
              "       'Lymphocytecount', 'Hemoglobin', 'Plateletscount', 'C-reactiveprotein',\n",
              "       'ALTkl;', 'AST', 'TotalBilirubin', 'Directbilirubin', 'Bloodsugar',\n",
              "       'CystatinC', 'Serumsodium', 'Lactatedehydrogenase', 'Creatinine',\n",
              "       'Serumbloodureanitrogen', 'B-typenatriureticpeptide',\n",
              "       'HypersensitivetroponinI', 'D-dimer', 'Albumin',\n",
              "       'AlbumintoGlobulinRatio', 'Male', 'Consciousness', 'Temperature',\n",
              "       'Respiratoryrate', 'Redcelldistributionwidth', 'SystolicBP',\n",
              "       'DiastolicBP', 'Lymphocyte(%)', 'morbidity_Diabetes', 'morbidity_COPD',\n",
              "       'morbidity_Hypertension', 'morbidity_Heartdisease',\n",
              "       'morbidity_Renaldisease', 'morbidity_Tumor',\n",
              "       'morbidity_Metabolicdisorders', 'morbidity_Respiratorydiseases',\n",
              "       'cluster'],\n",
              "      dtype='object')"
            ]
          },
          "metadata": {
            "tags": []
          },
          "execution_count": 4
        }
      ]
    },
    {
      "cell_type": "code",
      "metadata": {
        "id": "45dGNuTWB_NU"
      },
      "source": [
        "#remove comorbidities \n",
        "orig_data_and_labels = orig_data_and_labels_comorb.drop(columns=['Unnamed: 0','morbidity_Diabetes','morbidity_COPD','morbidity_Hypertension','morbidity_Heartdisease','morbidity_Renaldisease','morbidity_Tumor','morbidity_Metabolicdisorders','morbidity_Respiratorydiseases'])"
      ],
      "execution_count": null,
      "outputs": []
    },
    {
      "cell_type": "code",
      "metadata": {
        "scrolled": true,
        "id": "sfbUQBJAB_NU",
        "outputId": "8733c5db-3377-4e89-82ee-bbdfb1322364"
      },
      "source": [
        "orig_data_and_labels"
      ],
      "execution_count": null,
      "outputs": [
        {
          "output_type": "execute_result",
          "data": {
            "text/html": [
              "<div>\n",
              "<style scoped>\n",
              "    .dataframe tbody tr th:only-of-type {\n",
              "        vertical-align: middle;\n",
              "    }\n",
              "\n",
              "    .dataframe tbody tr th {\n",
              "        vertical-align: top;\n",
              "    }\n",
              "\n",
              "    .dataframe thead th {\n",
              "        text-align: right;\n",
              "    }\n",
              "</style>\n",
              "<table border=\"1\" class=\"dataframe\">\n",
              "  <thead>\n",
              "    <tr style=\"text-align: right;\">\n",
              "      <th></th>\n",
              "      <th>id</th>\n",
              "      <th>Height</th>\n",
              "      <th>Weight</th>\n",
              "      <th>smoking_structured</th>\n",
              "      <th>age</th>\n",
              "      <th>blood_sugar_d1_min</th>\n",
              "      <th>blood_sugar_d1_max</th>\n",
              "      <th>blood_sugar_d3_min</th>\n",
              "      <th>blood_sugar_d3_max</th>\n",
              "      <th>SystolicBP_d1_min</th>\n",
              "      <th>...</th>\n",
              "      <th>AlbumintoGlobulinRatio</th>\n",
              "      <th>Male</th>\n",
              "      <th>Consciousness</th>\n",
              "      <th>Temperature</th>\n",
              "      <th>Respiratoryrate</th>\n",
              "      <th>Redcelldistributionwidth</th>\n",
              "      <th>SystolicBP</th>\n",
              "      <th>DiastolicBP</th>\n",
              "      <th>Lymphocyte(%)</th>\n",
              "      <th>cluster</th>\n",
              "    </tr>\n",
              "  </thead>\n",
              "  <tbody>\n",
              "    <tr>\n",
              "      <th>0</th>\n",
              "      <td>100251</td>\n",
              "      <td>155.00000</td>\n",
              "      <td>60.0</td>\n",
              "      <td>0</td>\n",
              "      <td>62.0</td>\n",
              "      <td>4.660000</td>\n",
              "      <td>4.660000</td>\n",
              "      <td>4.925083</td>\n",
              "      <td>5.956664</td>\n",
              "      <td>124.000000</td>\n",
              "      <td>...</td>\n",
              "      <td>1.382490</td>\n",
              "      <td>False</td>\n",
              "      <td>1.0</td>\n",
              "      <td>36.6</td>\n",
              "      <td>20.0</td>\n",
              "      <td>12.1</td>\n",
              "      <td>134.500000</td>\n",
              "      <td>68.500000</td>\n",
              "      <td>23.384615</td>\n",
              "      <td>3</td>\n",
              "    </tr>\n",
              "    <tr>\n",
              "      <th>1</th>\n",
              "      <td>101019</td>\n",
              "      <td>151.00000</td>\n",
              "      <td>63.0</td>\n",
              "      <td>0</td>\n",
              "      <td>72.0</td>\n",
              "      <td>5.300000</td>\n",
              "      <td>5.300000</td>\n",
              "      <td>3.902008</td>\n",
              "      <td>4.507097</td>\n",
              "      <td>116.000000</td>\n",
              "      <td>...</td>\n",
              "      <td>1.129046</td>\n",
              "      <td>False</td>\n",
              "      <td>1.0</td>\n",
              "      <td>36.3</td>\n",
              "      <td>23.0</td>\n",
              "      <td>13.6</td>\n",
              "      <td>135.000000</td>\n",
              "      <td>80.000000</td>\n",
              "      <td>32.424242</td>\n",
              "      <td>1</td>\n",
              "    </tr>\n",
              "    <tr>\n",
              "      <th>2</th>\n",
              "      <td>102696</td>\n",
              "      <td>169.00000</td>\n",
              "      <td>80.0</td>\n",
              "      <td>0</td>\n",
              "      <td>63.0</td>\n",
              "      <td>5.190000</td>\n",
              "      <td>5.190000</td>\n",
              "      <td>5.538094</td>\n",
              "      <td>7.640623</td>\n",
              "      <td>119.000000</td>\n",
              "      <td>...</td>\n",
              "      <td>1.367413</td>\n",
              "      <td>True</td>\n",
              "      <td>1.0</td>\n",
              "      <td>36.6</td>\n",
              "      <td>19.0</td>\n",
              "      <td>13.4</td>\n",
              "      <td>129.000000</td>\n",
              "      <td>91.000000</td>\n",
              "      <td>32.266155</td>\n",
              "      <td>1</td>\n",
              "    </tr>\n",
              "    <tr>\n",
              "      <th>3</th>\n",
              "      <td>101588</td>\n",
              "      <td>161.00000</td>\n",
              "      <td>57.0</td>\n",
              "      <td>0</td>\n",
              "      <td>39.0</td>\n",
              "      <td>4.939551</td>\n",
              "      <td>4.895466</td>\n",
              "      <td>4.694930</td>\n",
              "      <td>4.862858</td>\n",
              "      <td>110.000000</td>\n",
              "      <td>...</td>\n",
              "      <td>1.125873</td>\n",
              "      <td>False</td>\n",
              "      <td>1.0</td>\n",
              "      <td>36.6</td>\n",
              "      <td>22.0</td>\n",
              "      <td>12.5</td>\n",
              "      <td>122.000000</td>\n",
              "      <td>74.500000</td>\n",
              "      <td>25.101747</td>\n",
              "      <td>1</td>\n",
              "    </tr>\n",
              "    <tr>\n",
              "      <th>4</th>\n",
              "      <td>100358</td>\n",
              "      <td>164.75961</td>\n",
              "      <td>65.0</td>\n",
              "      <td>0</td>\n",
              "      <td>62.0</td>\n",
              "      <td>5.793085</td>\n",
              "      <td>6.349398</td>\n",
              "      <td>5.576803</td>\n",
              "      <td>5.064091</td>\n",
              "      <td>115.000000</td>\n",
              "      <td>...</td>\n",
              "      <td>1.006937</td>\n",
              "      <td>True</td>\n",
              "      <td>1.0</td>\n",
              "      <td>37.5</td>\n",
              "      <td>24.0</td>\n",
              "      <td>11.9</td>\n",
              "      <td>122.500000</td>\n",
              "      <td>80.000000</td>\n",
              "      <td>15.538462</td>\n",
              "      <td>3</td>\n",
              "    </tr>\n",
              "    <tr>\n",
              "      <th>...</th>\n",
              "      <td>...</td>\n",
              "      <td>...</td>\n",
              "      <td>...</td>\n",
              "      <td>...</td>\n",
              "      <td>...</td>\n",
              "      <td>...</td>\n",
              "      <td>...</td>\n",
              "      <td>...</td>\n",
              "      <td>...</td>\n",
              "      <td>...</td>\n",
              "      <td>...</td>\n",
              "      <td>...</td>\n",
              "      <td>...</td>\n",
              "      <td>...</td>\n",
              "      <td>...</td>\n",
              "      <td>...</td>\n",
              "      <td>...</td>\n",
              "      <td>...</td>\n",
              "      <td>...</td>\n",
              "      <td>...</td>\n",
              "      <td>...</td>\n",
              "    </tr>\n",
              "    <tr>\n",
              "      <th>2792</th>\n",
              "      <td>101460</td>\n",
              "      <td>172.00000</td>\n",
              "      <td>72.0</td>\n",
              "      <td>0</td>\n",
              "      <td>49.0</td>\n",
              "      <td>4.340000</td>\n",
              "      <td>4.340000</td>\n",
              "      <td>5.230405</td>\n",
              "      <td>3.933495</td>\n",
              "      <td>116.061066</td>\n",
              "      <td>...</td>\n",
              "      <td>1.560000</td>\n",
              "      <td>True</td>\n",
              "      <td>0.0</td>\n",
              "      <td>36.8</td>\n",
              "      <td>24.0</td>\n",
              "      <td>12.2</td>\n",
              "      <td>100.326822</td>\n",
              "      <td>66.389026</td>\n",
              "      <td>32.307692</td>\n",
              "      <td>1</td>\n",
              "    </tr>\n",
              "    <tr>\n",
              "      <th>2793</th>\n",
              "      <td>100047</td>\n",
              "      <td>172.00000</td>\n",
              "      <td>75.0</td>\n",
              "      <td>0</td>\n",
              "      <td>45.0</td>\n",
              "      <td>4.091314</td>\n",
              "      <td>7.067830</td>\n",
              "      <td>4.062333</td>\n",
              "      <td>4.329303</td>\n",
              "      <td>109.644809</td>\n",
              "      <td>...</td>\n",
              "      <td>1.263107</td>\n",
              "      <td>True</td>\n",
              "      <td>1.0</td>\n",
              "      <td>36.8</td>\n",
              "      <td>22.0</td>\n",
              "      <td>11.4</td>\n",
              "      <td>101.593761</td>\n",
              "      <td>78.039515</td>\n",
              "      <td>18.589744</td>\n",
              "      <td>1</td>\n",
              "    </tr>\n",
              "    <tr>\n",
              "      <th>2794</th>\n",
              "      <td>103038</td>\n",
              "      <td>174.00000</td>\n",
              "      <td>72.0</td>\n",
              "      <td>0</td>\n",
              "      <td>56.0</td>\n",
              "      <td>4.330000</td>\n",
              "      <td>4.330000</td>\n",
              "      <td>5.489082</td>\n",
              "      <td>5.853361</td>\n",
              "      <td>112.000000</td>\n",
              "      <td>...</td>\n",
              "      <td>1.460000</td>\n",
              "      <td>True</td>\n",
              "      <td>1.0</td>\n",
              "      <td>36.5</td>\n",
              "      <td>26.0</td>\n",
              "      <td>13.1</td>\n",
              "      <td>124.000000</td>\n",
              "      <td>76.000000</td>\n",
              "      <td>37.792496</td>\n",
              "      <td>3</td>\n",
              "    </tr>\n",
              "    <tr>\n",
              "      <th>2795</th>\n",
              "      <td>100889</td>\n",
              "      <td>164.75961</td>\n",
              "      <td>80.0</td>\n",
              "      <td>0</td>\n",
              "      <td>74.0</td>\n",
              "      <td>4.040000</td>\n",
              "      <td>4.040000</td>\n",
              "      <td>4.339569</td>\n",
              "      <td>4.426759</td>\n",
              "      <td>119.000000</td>\n",
              "      <td>...</td>\n",
              "      <td>1.150000</td>\n",
              "      <td>True</td>\n",
              "      <td>1.0</td>\n",
              "      <td>36.5</td>\n",
              "      <td>26.0</td>\n",
              "      <td>12.5</td>\n",
              "      <td>139.500000</td>\n",
              "      <td>100.500000</td>\n",
              "      <td>14.313725</td>\n",
              "      <td>1</td>\n",
              "    </tr>\n",
              "    <tr>\n",
              "      <th>2796</th>\n",
              "      <td>100008</td>\n",
              "      <td>164.75961</td>\n",
              "      <td>80.0</td>\n",
              "      <td>0</td>\n",
              "      <td>37.0</td>\n",
              "      <td>5.499901</td>\n",
              "      <td>5.495763</td>\n",
              "      <td>5.074219</td>\n",
              "      <td>6.228706</td>\n",
              "      <td>93.602317</td>\n",
              "      <td>...</td>\n",
              "      <td>1.464453</td>\n",
              "      <td>True</td>\n",
              "      <td>1.0</td>\n",
              "      <td>36.3</td>\n",
              "      <td>24.0</td>\n",
              "      <td>11.9</td>\n",
              "      <td>117.223687</td>\n",
              "      <td>67.975513</td>\n",
              "      <td>27.307692</td>\n",
              "      <td>3</td>\n",
              "    </tr>\n",
              "  </tbody>\n",
              "</table>\n",
              "<p>2797 rows × 51 columns</p>\n",
              "</div>"
            ],
            "text/plain": [
              "          id     Height  Weight  smoking_structured   age  blood_sugar_d1_min  \\\n",
              "0     100251  155.00000    60.0                   0  62.0            4.660000   \n",
              "1     101019  151.00000    63.0                   0  72.0            5.300000   \n",
              "2     102696  169.00000    80.0                   0  63.0            5.190000   \n",
              "3     101588  161.00000    57.0                   0  39.0            4.939551   \n",
              "4     100358  164.75961    65.0                   0  62.0            5.793085   \n",
              "...      ...        ...     ...                 ...   ...                 ...   \n",
              "2792  101460  172.00000    72.0                   0  49.0            4.340000   \n",
              "2793  100047  172.00000    75.0                   0  45.0            4.091314   \n",
              "2794  103038  174.00000    72.0                   0  56.0            4.330000   \n",
              "2795  100889  164.75961    80.0                   0  74.0            4.040000   \n",
              "2796  100008  164.75961    80.0                   0  37.0            5.499901   \n",
              "\n",
              "      blood_sugar_d1_max  blood_sugar_d3_min  blood_sugar_d3_max  \\\n",
              "0               4.660000            4.925083            5.956664   \n",
              "1               5.300000            3.902008            4.507097   \n",
              "2               5.190000            5.538094            7.640623   \n",
              "3               4.895466            4.694930            4.862858   \n",
              "4               6.349398            5.576803            5.064091   \n",
              "...                  ...                 ...                 ...   \n",
              "2792            4.340000            5.230405            3.933495   \n",
              "2793            7.067830            4.062333            4.329303   \n",
              "2794            4.330000            5.489082            5.853361   \n",
              "2795            4.040000            4.339569            4.426759   \n",
              "2796            5.495763            5.074219            6.228706   \n",
              "\n",
              "      SystolicBP_d1_min  ...  AlbumintoGlobulinRatio   Male  Consciousness  \\\n",
              "0            124.000000  ...                1.382490  False            1.0   \n",
              "1            116.000000  ...                1.129046  False            1.0   \n",
              "2            119.000000  ...                1.367413   True            1.0   \n",
              "3            110.000000  ...                1.125873  False            1.0   \n",
              "4            115.000000  ...                1.006937   True            1.0   \n",
              "...                 ...  ...                     ...    ...            ...   \n",
              "2792         116.061066  ...                1.560000   True            0.0   \n",
              "2793         109.644809  ...                1.263107   True            1.0   \n",
              "2794         112.000000  ...                1.460000   True            1.0   \n",
              "2795         119.000000  ...                1.150000   True            1.0   \n",
              "2796          93.602317  ...                1.464453   True            1.0   \n",
              "\n",
              "      Temperature  Respiratoryrate  Redcelldistributionwidth  SystolicBP  \\\n",
              "0            36.6             20.0                      12.1  134.500000   \n",
              "1            36.3             23.0                      13.6  135.000000   \n",
              "2            36.6             19.0                      13.4  129.000000   \n",
              "3            36.6             22.0                      12.5  122.000000   \n",
              "4            37.5             24.0                      11.9  122.500000   \n",
              "...           ...              ...                       ...         ...   \n",
              "2792         36.8             24.0                      12.2  100.326822   \n",
              "2793         36.8             22.0                      11.4  101.593761   \n",
              "2794         36.5             26.0                      13.1  124.000000   \n",
              "2795         36.5             26.0                      12.5  139.500000   \n",
              "2796         36.3             24.0                      11.9  117.223687   \n",
              "\n",
              "      DiastolicBP  Lymphocyte(%)  cluster  \n",
              "0       68.500000      23.384615        3  \n",
              "1       80.000000      32.424242        1  \n",
              "2       91.000000      32.266155        1  \n",
              "3       74.500000      25.101747        1  \n",
              "4       80.000000      15.538462        3  \n",
              "...           ...            ...      ...  \n",
              "2792    66.389026      32.307692        1  \n",
              "2793    78.039515      18.589744        1  \n",
              "2794    76.000000      37.792496        3  \n",
              "2795   100.500000      14.313725        1  \n",
              "2796    67.975513      27.307692        3  \n",
              "\n",
              "[2797 rows x 51 columns]"
            ]
          },
          "metadata": {
            "tags": []
          },
          "execution_count": 6
        }
      ]
    },
    {
      "cell_type": "markdown",
      "metadata": {
        "id": "-S7q5UiCB_NU"
      },
      "source": [
        "### Predicting binary severity "
      ]
    },
    {
      "cell_type": "markdown",
      "metadata": {
        "id": "Gs-Gg_mcB_NV"
      },
      "source": [
        "We want to convert the cluster labels to only use three labels: we leave the two largest cluster labels as they are, since these contain the non-severe cases and are significantly larger than all other clusters. We then set the remaining individuals to be part of the same cluster. Then, these will be separated out and we can then look at these individuals in more detail later as they are more interesting. "
      ]
    },
    {
      "cell_type": "code",
      "metadata": {
        "id": "8kjmZyfYB_NV"
      },
      "source": [
        "# value_counts_list = orig_data_and_labels.cluster.value_counts().index.to_list()\n",
        "# large_cluster = value_counts_list[0]"
      ],
      "execution_count": null,
      "outputs": []
    },
    {
      "cell_type": "markdown",
      "metadata": {
        "id": "Jkvh4cDVB_NV"
      },
      "source": [
        "Here we redefine the clusters into 2 categories: severe, and non-severe based on the severity of the clusters. "
      ]
    },
    {
      "cell_type": "code",
      "metadata": {
        "id": "r-SUIJA3B_NV"
      },
      "source": [
        "#for 6_kmodes\n",
        "limited_clusters = True\n",
        "if(limited_clusters):\n",
        "    data_and_labels = orig_data_and_labels.copy()\n",
        "    #group clusters together into non-severe, medium, severe\n",
        "    data_and_labels['cluster'] = orig_data_and_labels['cluster'].apply(\n",
        "        lambda x: 'non-severe' if (x==0 or x==3 or x==4 or x==5 or x==1 or x==3) else x)\n",
        "#     data_and_labels['cluster'] = data_and_labels['cluster'].apply(\n",
        "#         lambda x: 'medium' if (x==0) else x)    \n",
        "    data_and_labels['cluster'] = data_and_labels['cluster'].apply(\n",
        "        lambda x: 'severe' if (x==2) else x)            "
      ],
      "execution_count": null,
      "outputs": []
    },
    {
      "cell_type": "code",
      "metadata": {
        "id": "UrcQ6O7ZB_NW",
        "outputId": "f2745c54-d5b4-4971-aaad-9502b753e1ee"
      },
      "source": [
        "data_and_labels.cluster.value_counts()"
      ],
      "execution_count": null,
      "outputs": [
        {
          "output_type": "execute_result",
          "data": {
            "text/plain": [
              "non-severe    2700\n",
              "severe          97\n",
              "Name: cluster, dtype: int64"
            ]
          },
          "metadata": {
            "tags": []
          },
          "execution_count": 9
        }
      ]
    },
    {
      "cell_type": "code",
      "metadata": {
        "id": "sl-mvWgOB_NW"
      },
      "source": [
        "non_severe = data_and_labels[data_and_labels.cluster=='non-severe']\n",
        "severe = data_and_labels[data_and_labels.cluster=='severe']"
      ],
      "execution_count": null,
      "outputs": []
    },
    {
      "cell_type": "code",
      "metadata": {
        "id": "ZcR4BlRBB_NW"
      },
      "source": [
        "death_ICU = combined_clean[['id','death','ICU']]"
      ],
      "execution_count": null,
      "outputs": []
    },
    {
      "cell_type": "code",
      "metadata": {
        "id": "6D8WUt4_B_NX"
      },
      "source": [
        "severe_death_ICU = pd.merge(severe, death_ICU, how='inner', on='id')\n",
        "non_severe_death_ICU = pd.merge(non_severe, death_ICU, how='inner', on='id')"
      ],
      "execution_count": null,
      "outputs": []
    },
    {
      "cell_type": "code",
      "metadata": {
        "scrolled": true,
        "id": "OGSBPmV8B_NX",
        "outputId": "c375a179-3f0e-4c80-8d22-9e6f94798110"
      },
      "source": [
        "severe_death_ICU"
      ],
      "execution_count": null,
      "outputs": [
        {
          "output_type": "execute_result",
          "data": {
            "text/html": [
              "<div>\n",
              "<style scoped>\n",
              "    .dataframe tbody tr th:only-of-type {\n",
              "        vertical-align: middle;\n",
              "    }\n",
              "\n",
              "    .dataframe tbody tr th {\n",
              "        vertical-align: top;\n",
              "    }\n",
              "\n",
              "    .dataframe thead th {\n",
              "        text-align: right;\n",
              "    }\n",
              "</style>\n",
              "<table border=\"1\" class=\"dataframe\">\n",
              "  <thead>\n",
              "    <tr style=\"text-align: right;\">\n",
              "      <th></th>\n",
              "      <th>id</th>\n",
              "      <th>Height</th>\n",
              "      <th>Weight</th>\n",
              "      <th>smoking_structured</th>\n",
              "      <th>age</th>\n",
              "      <th>blood_sugar_d1_min</th>\n",
              "      <th>blood_sugar_d1_max</th>\n",
              "      <th>blood_sugar_d3_min</th>\n",
              "      <th>blood_sugar_d3_max</th>\n",
              "      <th>SystolicBP_d1_min</th>\n",
              "      <th>...</th>\n",
              "      <th>Consciousness</th>\n",
              "      <th>Temperature</th>\n",
              "      <th>Respiratoryrate</th>\n",
              "      <th>Redcelldistributionwidth</th>\n",
              "      <th>SystolicBP</th>\n",
              "      <th>DiastolicBP</th>\n",
              "      <th>Lymphocyte(%)</th>\n",
              "      <th>cluster</th>\n",
              "      <th>death</th>\n",
              "      <th>ICU</th>\n",
              "    </tr>\n",
              "  </thead>\n",
              "  <tbody>\n",
              "    <tr>\n",
              "      <th>0</th>\n",
              "      <td>101287</td>\n",
              "      <td>160.00000</td>\n",
              "      <td>60.000000</td>\n",
              "      <td>0</td>\n",
              "      <td>58.0</td>\n",
              "      <td>4.773361</td>\n",
              "      <td>5.972382</td>\n",
              "      <td>4.966484</td>\n",
              "      <td>4.477538</td>\n",
              "      <td>132.000000</td>\n",
              "      <td>...</td>\n",
              "      <td>1.0</td>\n",
              "      <td>36.6</td>\n",
              "      <td>22.0</td>\n",
              "      <td>13.800000</td>\n",
              "      <td>136.000000</td>\n",
              "      <td>91.000000</td>\n",
              "      <td>10.510204</td>\n",
              "      <td>severe</td>\n",
              "      <td>True</td>\n",
              "      <td>True</td>\n",
              "    </tr>\n",
              "    <tr>\n",
              "      <th>1</th>\n",
              "      <td>102534</td>\n",
              "      <td>164.75961</td>\n",
              "      <td>65.029389</td>\n",
              "      <td>0</td>\n",
              "      <td>88.0</td>\n",
              "      <td>5.970000</td>\n",
              "      <td>5.970000</td>\n",
              "      <td>5.150096</td>\n",
              "      <td>5.364182</td>\n",
              "      <td>109.000000</td>\n",
              "      <td>...</td>\n",
              "      <td>1.0</td>\n",
              "      <td>36.5</td>\n",
              "      <td>20.0</td>\n",
              "      <td>13.900000</td>\n",
              "      <td>136.500000</td>\n",
              "      <td>70.000000</td>\n",
              "      <td>15.866667</td>\n",
              "      <td>severe</td>\n",
              "      <td>False</td>\n",
              "      <td>True</td>\n",
              "    </tr>\n",
              "    <tr>\n",
              "      <th>2</th>\n",
              "      <td>102488</td>\n",
              "      <td>170.00000</td>\n",
              "      <td>82.000000</td>\n",
              "      <td>0</td>\n",
              "      <td>72.0</td>\n",
              "      <td>6.250000</td>\n",
              "      <td>6.250000</td>\n",
              "      <td>4.574277</td>\n",
              "      <td>7.494359</td>\n",
              "      <td>112.000000</td>\n",
              "      <td>...</td>\n",
              "      <td>1.0</td>\n",
              "      <td>36.8</td>\n",
              "      <td>19.0</td>\n",
              "      <td>13.400000</td>\n",
              "      <td>131.000000</td>\n",
              "      <td>75.500000</td>\n",
              "      <td>9.523810</td>\n",
              "      <td>severe</td>\n",
              "      <td>False</td>\n",
              "      <td>True</td>\n",
              "    </tr>\n",
              "    <tr>\n",
              "      <th>3</th>\n",
              "      <td>100191</td>\n",
              "      <td>155.00000</td>\n",
              "      <td>76.000000</td>\n",
              "      <td>0</td>\n",
              "      <td>62.0</td>\n",
              "      <td>8.830000</td>\n",
              "      <td>8.830000</td>\n",
              "      <td>3.977883</td>\n",
              "      <td>6.355626</td>\n",
              "      <td>73.000000</td>\n",
              "      <td>...</td>\n",
              "      <td>1.0</td>\n",
              "      <td>36.4</td>\n",
              "      <td>17.0</td>\n",
              "      <td>13.200000</td>\n",
              "      <td>112.500000</td>\n",
              "      <td>75.500000</td>\n",
              "      <td>2.668622</td>\n",
              "      <td>severe</td>\n",
              "      <td>True</td>\n",
              "      <td>True</td>\n",
              "    </tr>\n",
              "    <tr>\n",
              "      <th>4</th>\n",
              "      <td>100514</td>\n",
              "      <td>164.75961</td>\n",
              "      <td>73.000000</td>\n",
              "      <td>0</td>\n",
              "      <td>25.0</td>\n",
              "      <td>7.200000</td>\n",
              "      <td>7.200000</td>\n",
              "      <td>6.860000</td>\n",
              "      <td>6.860000</td>\n",
              "      <td>149.000000</td>\n",
              "      <td>...</td>\n",
              "      <td>0.0</td>\n",
              "      <td>36.5</td>\n",
              "      <td>22.0</td>\n",
              "      <td>14.400000</td>\n",
              "      <td>175.000000</td>\n",
              "      <td>119.000000</td>\n",
              "      <td>7.538462</td>\n",
              "      <td>severe</td>\n",
              "      <td>True</td>\n",
              "      <td>False</td>\n",
              "    </tr>\n",
              "    <tr>\n",
              "      <th>...</th>\n",
              "      <td>...</td>\n",
              "      <td>...</td>\n",
              "      <td>...</td>\n",
              "      <td>...</td>\n",
              "      <td>...</td>\n",
              "      <td>...</td>\n",
              "      <td>...</td>\n",
              "      <td>...</td>\n",
              "      <td>...</td>\n",
              "      <td>...</td>\n",
              "      <td>...</td>\n",
              "      <td>...</td>\n",
              "      <td>...</td>\n",
              "      <td>...</td>\n",
              "      <td>...</td>\n",
              "      <td>...</td>\n",
              "      <td>...</td>\n",
              "      <td>...</td>\n",
              "      <td>...</td>\n",
              "      <td>...</td>\n",
              "      <td>...</td>\n",
              "    </tr>\n",
              "    <tr>\n",
              "      <th>92</th>\n",
              "      <td>100843</td>\n",
              "      <td>164.75961</td>\n",
              "      <td>75.000000</td>\n",
              "      <td>0</td>\n",
              "      <td>49.0</td>\n",
              "      <td>4.438236</td>\n",
              "      <td>4.782497</td>\n",
              "      <td>4.129095</td>\n",
              "      <td>6.717860</td>\n",
              "      <td>119.000000</td>\n",
              "      <td>...</td>\n",
              "      <td>1.0</td>\n",
              "      <td>36.5</td>\n",
              "      <td>24.0</td>\n",
              "      <td>13.400000</td>\n",
              "      <td>124.500000</td>\n",
              "      <td>80.000000</td>\n",
              "      <td>8.241758</td>\n",
              "      <td>severe</td>\n",
              "      <td>False</td>\n",
              "      <td>True</td>\n",
              "    </tr>\n",
              "    <tr>\n",
              "      <th>93</th>\n",
              "      <td>100692</td>\n",
              "      <td>164.75961</td>\n",
              "      <td>65.029389</td>\n",
              "      <td>0</td>\n",
              "      <td>78.0</td>\n",
              "      <td>6.090000</td>\n",
              "      <td>6.340000</td>\n",
              "      <td>3.997205</td>\n",
              "      <td>3.956286</td>\n",
              "      <td>93.125607</td>\n",
              "      <td>...</td>\n",
              "      <td>1.0</td>\n",
              "      <td>37.2</td>\n",
              "      <td>19.0</td>\n",
              "      <td>12.800000</td>\n",
              "      <td>106.047496</td>\n",
              "      <td>77.620179</td>\n",
              "      <td>5.384615</td>\n",
              "      <td>severe</td>\n",
              "      <td>True</td>\n",
              "      <td>True</td>\n",
              "    </tr>\n",
              "    <tr>\n",
              "      <th>94</th>\n",
              "      <td>100181</td>\n",
              "      <td>164.75961</td>\n",
              "      <td>65.029389</td>\n",
              "      <td>0</td>\n",
              "      <td>75.0</td>\n",
              "      <td>4.028059</td>\n",
              "      <td>6.916851</td>\n",
              "      <td>5.744956</td>\n",
              "      <td>5.496064</td>\n",
              "      <td>99.634251</td>\n",
              "      <td>...</td>\n",
              "      <td>1.0</td>\n",
              "      <td>37.4</td>\n",
              "      <td>22.0</td>\n",
              "      <td>14.225441</td>\n",
              "      <td>111.273004</td>\n",
              "      <td>69.780542</td>\n",
              "      <td>33.269486</td>\n",
              "      <td>severe</td>\n",
              "      <td>True</td>\n",
              "      <td>True</td>\n",
              "    </tr>\n",
              "    <tr>\n",
              "      <th>95</th>\n",
              "      <td>100338</td>\n",
              "      <td>164.75961</td>\n",
              "      <td>65.029389</td>\n",
              "      <td>0</td>\n",
              "      <td>62.0</td>\n",
              "      <td>4.026961</td>\n",
              "      <td>4.746516</td>\n",
              "      <td>5.471523</td>\n",
              "      <td>5.539986</td>\n",
              "      <td>128.000000</td>\n",
              "      <td>...</td>\n",
              "      <td>0.0</td>\n",
              "      <td>36.9</td>\n",
              "      <td>32.0</td>\n",
              "      <td>12.000000</td>\n",
              "      <td>134.000000</td>\n",
              "      <td>87.000000</td>\n",
              "      <td>3.975155</td>\n",
              "      <td>severe</td>\n",
              "      <td>True</td>\n",
              "      <td>False</td>\n",
              "    </tr>\n",
              "    <tr>\n",
              "      <th>96</th>\n",
              "      <td>101454</td>\n",
              "      <td>170.00000</td>\n",
              "      <td>68.000000</td>\n",
              "      <td>0</td>\n",
              "      <td>74.0</td>\n",
              "      <td>7.360000</td>\n",
              "      <td>8.680000</td>\n",
              "      <td>5.134339</td>\n",
              "      <td>7.029248</td>\n",
              "      <td>102.000000</td>\n",
              "      <td>...</td>\n",
              "      <td>0.0</td>\n",
              "      <td>37.0</td>\n",
              "      <td>34.0</td>\n",
              "      <td>13.100000</td>\n",
              "      <td>126.000000</td>\n",
              "      <td>65.000000</td>\n",
              "      <td>3.566434</td>\n",
              "      <td>severe</td>\n",
              "      <td>False</td>\n",
              "      <td>False</td>\n",
              "    </tr>\n",
              "  </tbody>\n",
              "</table>\n",
              "<p>97 rows × 53 columns</p>\n",
              "</div>"
            ],
            "text/plain": [
              "        id     Height     Weight  smoking_structured   age  \\\n",
              "0   101287  160.00000  60.000000                   0  58.0   \n",
              "1   102534  164.75961  65.029389                   0  88.0   \n",
              "2   102488  170.00000  82.000000                   0  72.0   \n",
              "3   100191  155.00000  76.000000                   0  62.0   \n",
              "4   100514  164.75961  73.000000                   0  25.0   \n",
              "..     ...        ...        ...                 ...   ...   \n",
              "92  100843  164.75961  75.000000                   0  49.0   \n",
              "93  100692  164.75961  65.029389                   0  78.0   \n",
              "94  100181  164.75961  65.029389                   0  75.0   \n",
              "95  100338  164.75961  65.029389                   0  62.0   \n",
              "96  101454  170.00000  68.000000                   0  74.0   \n",
              "\n",
              "    blood_sugar_d1_min  blood_sugar_d1_max  blood_sugar_d3_min  \\\n",
              "0             4.773361            5.972382            4.966484   \n",
              "1             5.970000            5.970000            5.150096   \n",
              "2             6.250000            6.250000            4.574277   \n",
              "3             8.830000            8.830000            3.977883   \n",
              "4             7.200000            7.200000            6.860000   \n",
              "..                 ...                 ...                 ...   \n",
              "92            4.438236            4.782497            4.129095   \n",
              "93            6.090000            6.340000            3.997205   \n",
              "94            4.028059            6.916851            5.744956   \n",
              "95            4.026961            4.746516            5.471523   \n",
              "96            7.360000            8.680000            5.134339   \n",
              "\n",
              "    blood_sugar_d3_max  SystolicBP_d1_min  ...  Consciousness  Temperature  \\\n",
              "0             4.477538         132.000000  ...            1.0         36.6   \n",
              "1             5.364182         109.000000  ...            1.0         36.5   \n",
              "2             7.494359         112.000000  ...            1.0         36.8   \n",
              "3             6.355626          73.000000  ...            1.0         36.4   \n",
              "4             6.860000         149.000000  ...            0.0         36.5   \n",
              "..                 ...                ...  ...            ...          ...   \n",
              "92            6.717860         119.000000  ...            1.0         36.5   \n",
              "93            3.956286          93.125607  ...            1.0         37.2   \n",
              "94            5.496064          99.634251  ...            1.0         37.4   \n",
              "95            5.539986         128.000000  ...            0.0         36.9   \n",
              "96            7.029248         102.000000  ...            0.0         37.0   \n",
              "\n",
              "    Respiratoryrate  Redcelldistributionwidth  SystolicBP  DiastolicBP  \\\n",
              "0              22.0                 13.800000  136.000000    91.000000   \n",
              "1              20.0                 13.900000  136.500000    70.000000   \n",
              "2              19.0                 13.400000  131.000000    75.500000   \n",
              "3              17.0                 13.200000  112.500000    75.500000   \n",
              "4              22.0                 14.400000  175.000000   119.000000   \n",
              "..              ...                       ...         ...          ...   \n",
              "92             24.0                 13.400000  124.500000    80.000000   \n",
              "93             19.0                 12.800000  106.047496    77.620179   \n",
              "94             22.0                 14.225441  111.273004    69.780542   \n",
              "95             32.0                 12.000000  134.000000    87.000000   \n",
              "96             34.0                 13.100000  126.000000    65.000000   \n",
              "\n",
              "    Lymphocyte(%)  cluster  death    ICU  \n",
              "0       10.510204   severe   True   True  \n",
              "1       15.866667   severe  False   True  \n",
              "2        9.523810   severe  False   True  \n",
              "3        2.668622   severe   True   True  \n",
              "4        7.538462   severe   True  False  \n",
              "..            ...      ...    ...    ...  \n",
              "92       8.241758   severe  False   True  \n",
              "93       5.384615   severe   True   True  \n",
              "94      33.269486   severe   True   True  \n",
              "95       3.975155   severe   True  False  \n",
              "96       3.566434   severe  False  False  \n",
              "\n",
              "[97 rows x 53 columns]"
            ]
          },
          "metadata": {
            "tags": []
          },
          "execution_count": 13
        }
      ]
    },
    {
      "cell_type": "code",
      "metadata": {
        "id": "WEOBxLv3B_NX",
        "outputId": "a03cdd92-726d-42e1-d2a1-b2cfbaca0b7e"
      },
      "source": [
        "print('percentage non-severe death:')\n",
        "print((len(non_severe_death_ICU[non_severe_death_ICU['death']==True]))/(len(non_severe_death_ICU))*100)\n",
        "print('percentage non-severe ICU:')\n",
        "print((len(non_severe_death_ICU[non_severe_death_ICU['ICU']==True]))/(len(non_severe_death_ICU))*100)"
      ],
      "execution_count": null,
      "outputs": [
        {
          "output_type": "stream",
          "text": [
            "percentage non-severe death:\n",
            "0.25925925925925924\n",
            "percentage non-severe ICU:\n",
            "1.3703703703703705\n"
          ],
          "name": "stdout"
        }
      ]
    },
    {
      "cell_type": "code",
      "metadata": {
        "id": "vhRmHWrLB_NX",
        "outputId": "520eece2-6106-479e-905d-8d4b15b3836d"
      },
      "source": [
        "print('percentage severe death:')\n",
        "print((len(severe_death_ICU[severe_death_ICU['death']==True]))/(len(severe_death_ICU))*100)\n",
        "print('percentage severe ICU:')\n",
        "print((len(severe_death_ICU[severe_death_ICU['ICU']==True]))/(len(severe_death_ICU))*100)"
      ],
      "execution_count": null,
      "outputs": [
        {
          "output_type": "stream",
          "text": [
            "percentage severe death:\n",
            "63.91752577319587\n",
            "percentage severe ICU:\n",
            "88.65979381443299\n"
          ],
          "name": "stdout"
        }
      ]
    },
    {
      "cell_type": "code",
      "metadata": {
        "id": "O1zOHEXbB_NX"
      },
      "source": [
        "from sklearn import preprocessing, model_selection\n",
        "\n",
        "def preprocess(all_data):\n",
        "#     Split the dataset into features and labels (clusters) - so we can normalise the features but not the labels\n",
        "    all_X = all_data.iloc[:,2:len(all_data.columns)-1]\n",
        "    all_y = all_data['cluster']\n",
        "    \n",
        "    # normalise the data so we have unit variance and mean 0 using built-in preprocessing method in sklearn\n",
        "    scaler = preprocessing.StandardScaler()\n",
        "    all_X= pd.DataFrame(scaler.fit_transform(all_X),columns=all_X.columns)\n",
        "    \n",
        "#     reset the indexes otherwise it was breaking\n",
        "    all_X= all_X.reset_index()\n",
        "    all_y = all_y.reset_index()\n",
        "    all_X = all_X.drop(columns=['index'])\n",
        "    all_y = all_y.drop(columns=['index'])\n",
        "    \n",
        "    #prepare data for training a model by splitting into training and testing data \n",
        "    return (all_X, all_y)"
      ],
      "execution_count": null,
      "outputs": []
    },
    {
      "cell_type": "code",
      "metadata": {
        "id": "6yqQdGtgB_NY"
      },
      "source": [
        "all_X, all_y = preprocess(data_and_labels)"
      ],
      "execution_count": null,
      "outputs": []
    },
    {
      "cell_type": "markdown",
      "metadata": {
        "id": "lLlmLC8wB_NY"
      },
      "source": [
        "Let's see if we can identify the types of poor prognoses of the at-risk individuals"
      ]
    },
    {
      "cell_type": "markdown",
      "metadata": {
        "id": "SBitq1oqB_NY"
      },
      "source": [
        "## Classification setup"
      ]
    },
    {
      "cell_type": "code",
      "metadata": {
        "id": "LlTu-rqKB_NY"
      },
      "source": [
        "#Set the class names\n",
        "class_names = ['severe','non-severe']"
      ],
      "execution_count": null,
      "outputs": []
    },
    {
      "cell_type": "markdown",
      "metadata": {
        "id": "v2uKEFnJB_NY"
      },
      "source": [
        "### setting up performance metrics calculations"
      ]
    },
    {
      "cell_type": "code",
      "metadata": {
        "id": "Oe-W2MlLB_NZ"
      },
      "source": [
        "from sklearn import metrics\n",
        "#method to compute performance metrics \n",
        "def performance_metrics(y_true, y_pred):\n",
        "    #create a confusion matrix from results \n",
        "    cnf_matrix  = metrics.confusion_matrix(y_true, y_pred, labels=class_names, sample_weight=None)\n",
        "#     # average over all classes to find overall fp,fn,tp,tn\n",
        "#     FP = np.sum(cnf_matrix, axis=0) - np.diag(cnf_matrix)\n",
        "#     FN = np.sum(cnf_matrix, axis=1) - np.diag(cnf_matrix)\n",
        "#     TP = np.diag(cnf_matrix)\n",
        "#     TN = np.sum(cnf_matrix) - (FP + FN + TP)\n",
        "        \n",
        "    #find out if each predicted label is right \n",
        "    correct_labels = 0\n",
        "    for i, true_label in enumerate(y_true):\n",
        "        if (true_label == y_pred[i]):\n",
        "            correct_labels += 1\n",
        "\n",
        "    #calculate overall accuracy\n",
        "#     acc = np.round(correct_labels/y_pred.shape[0],2)\n",
        "        \n",
        "    # tp rate is the same as recall \n",
        "#     recall = np.sum(TP)/(np.sum(TP)+np.sum(FN))\n",
        "#     FP_rate = np.sum(FP)/(np.sum(FP)+np.sum(TN))  \n",
        "#     precision = np.sum(TP)/(np.sum(TP)+np.sum(FP)) \n",
        "#     f_measure = (2*precision*recall)/(precision + recall) \n",
        "\n",
        "    metrics_dict = metrics.classification_report(y_true,y_pred,output_dict=True)\n",
        "    avg_metrics = metrics_dict['macro avg']\n",
        "    \n",
        "    recall = avg_metrics['recall']\n",
        "    precision = avg_metrics['precision']\n",
        "    f_measure = avg_metrics['f1-score']\n",
        "    acc = metrics_dict['accuracy']\n",
        "    \n",
        "    print(metrics.classification_report(y_true,y_pred))\n",
        "    \n",
        "    return (acc, recall, precision, f_measure,\n",
        "            np.round(cnf_matrix/cnf_matrix.sum(axis=1), 2))\n"
      ],
      "execution_count": null,
      "outputs": []
    },
    {
      "cell_type": "code",
      "metadata": {
        "id": "rtHBla-8B_NZ"
      },
      "source": [
        "import seaborn as sn\n",
        "\n",
        "#method to plot the confusion matrix \n",
        "def plot_confusion_matrix(confusion_matrix, class_names):\n",
        "    conf_matrix = pd.DataFrame(confusion_matrix, index = [i for i in class_names], columns = [i for i in class_names])\n",
        "    plt.figure()\n",
        "    sn.set(font_scale=1.4) # for label size\n",
        "    sn.heatmap(conf_matrix, annot=True, annot_kws={\"size\": 16}, cmap=\"Blues\")\n",
        "    plt.show()"
      ],
      "execution_count": null,
      "outputs": []
    },
    {
      "cell_type": "markdown",
      "metadata": {
        "id": "cmgibDmtB_NZ"
      },
      "source": [
        "## k-fold cross validation"
      ]
    },
    {
      "cell_type": "markdown",
      "metadata": {
        "id": "WSnyE4IxB_NZ"
      },
      "source": [
        "Here we use k-fold cross validation to evaluate the effectiveness of our models, where each 'fold' results in a slightly different train/test split, allowing us to see how the model beaves with different data. We can compute various metrics about the model performance, and from these results, we can choose the most effective classification model."
      ]
    },
    {
      "cell_type": "code",
      "metadata": {
        "id": "A__dwHdrB_Na"
      },
      "source": [
        "from sklearn import model_selection \n",
        "from sklearn import linear_model\n",
        "from sklearn import ensemble\n",
        "\n",
        "def cross_val(all_X, all_y, class_names, downsampling, upsampling, down_prop, up_prop, clf, printing):\n",
        "    print('cross-validating...')\n",
        "    k_val = 3\n",
        "    #use 3 splits \n",
        "    k_fold = model_selection.KFold(n_splits=k_val)\n",
        "    strat_k_fold = model_selection.StratifiedKFold(n_splits=k_val, shuffle=True)\n",
        "\n",
        "    #create empty arrays to store the results from each fold\n",
        "    #we can then average these to get the overall classifications and performance \n",
        "    accuracies = np.empty(k_val)\n",
        "    tp_rates = np.empty(k_val)\n",
        "    precisions = np.empty(k_val)\n",
        "    f_measures = np.empty(k_val)\n",
        "\n",
        "    count = 0\n",
        "\n",
        "    #split training data into training and validation sets\n",
        "    for train_indices, validation_indices in strat_k_fold.split(all_X, all_y):\n",
        "    #     print(X_train.index)\n",
        "        X_training = all_X.iloc[train_indices]\n",
        "        y_training = all_y.iloc[train_indices]\n",
        "        X_validate = all_X.iloc[validation_indices]\n",
        "        y_validate = all_y.iloc[validation_indices]\n",
        "        \n",
        "        # upsample the training data in each fold, if upsample = true\n",
        "        #with stratified k fold, better not to upsample, as it preserves percentage of samples for each class \n",
        "#         print('value counts: ', y_training.value_counts())\n",
        "\n",
        "        if(downsampling):\n",
        "#             print('downsampling...')\n",
        "            X_training, y_training = downsample(X_training, y_training, class_names, down_prop)\n",
        "            if (printing):\n",
        "                print('value counts: ', y_training.value_counts())\n",
        "\n",
        "        if (upsampling):\n",
        "#             print('upsampling...')\n",
        "            X_training, y_training = upsample(X_training, y_training, class_names, up_prop)\n",
        "            if (printing):\n",
        "                print('value counts:', y_training.value_counts())\n",
        "            \n",
        "        # fit classifier\n",
        "        clf.fit(X_training, y_training.values.ravel())\n",
        "        \n",
        "        #predict \n",
        "        y_predicted = clf.predict(X_validate)\n",
        "        y_true_val = y_validate.cluster\n",
        "        \n",
        "        #if we are using the decision tree classifier we may want to export the tree to look at it \n",
        "        from sklearn import tree\n",
        "\n",
        "        export_tree = False\n",
        "        if(export_tree):\n",
        "            for tree_in_forest in clf.estimators_:\n",
        "                if(export_tree):\n",
        "                    tree.export_graphviz(tree_in_forest, out_file=\"rotated_tree_eg.dot\",filled = True, \n",
        "                                         feature_names = X_training.columns, class_names=class_names,\n",
        "                                         rotate = True)\n",
        "        if (printing):\n",
        "            print(np.unique(y_predicted, return_counts=True))\n",
        "\n",
        "        #see how validation set performs \n",
        "        acc, recall, precision, f_measure, confusion_matrix = performance_metrics(y_true_val.values, y_predicted)\n",
        "\n",
        "        if (printing):\n",
        "            #print performance results for each fold\n",
        "            print(\"accuracy: \", acc)\n",
        "            print(\"true positive rate / recall: \", recall)\n",
        "            print(\"precision: \", precision)\n",
        "            print(\"f measure: \", f_measure)\n",
        "            plot_confusion_matrix(confusion_matrix, class_names)\n",
        "            print(\"----------\")\n",
        "\n",
        "        # store info for each fold \n",
        "        accuracies[count] = acc\n",
        "        tp_rates[count] = recall\n",
        "        precisions[count] = precision\n",
        "        f_measures[count] = f_measure\n",
        "        count+=1\n",
        "        \n",
        "        \n",
        "    #average scores\n",
        "    cv_acc = np.mean(accuracies)\n",
        "    cv_tp = np.mean(tp_rates)\n",
        "    cv_precision = np.mean(precisions)\n",
        "    cv_f_measure = np.mean(f_measures)\n",
        "\n",
        "\n",
        "    print(\"overall average performance:\")\n",
        "    print(\"accuracy: \", cv_acc)\n",
        "    print(\"true positive rate/recall: \", cv_tp)\n",
        "    print(\"precision: \", cv_precision)\n",
        "    print(\"f measure: \", cv_f_measure)\n",
        "    \n",
        "    return X_training, y_training, X_validate, y_validate, y_predicted, y_true_val, cv_f_measure\n"
      ],
      "execution_count": null,
      "outputs": []
    },
    {
      "cell_type": "markdown",
      "metadata": {
        "id": "oK_KEm76B_Na"
      },
      "source": [
        "Method to perform grid search to find the best parameters for the random forest classifier, uses cross-val\n"
      ]
    },
    {
      "cell_type": "markdown",
      "metadata": {
        "id": "f7ph8glzB_Nb"
      },
      "source": [
        "Had to implement this manually due to library constraints and difficulties with upsampling properly inside gridsearch"
      ]
    },
    {
      "cell_type": "code",
      "metadata": {
        "id": "agBrAs_-B_Nb"
      },
      "source": [
        "from sklearn import model_selection, pipeline, ensemble\n",
        "\n",
        "def grid_search_rand_forest(data_X, data_y,class_names, downsampling, upsampling, down_prop, up_prop):\n",
        "\n",
        "    best_f = 0.0\n",
        "    \n",
        "    # gridsearch for parameter optimisation\n",
        "    param_grid = { \n",
        "        'n_estimators': [5, 10, 15, 20, 30, 40, 60, 80],\n",
        "        'max_depth': [5, 10, 15, None],\n",
        "        'max_features': ['auto', 'sqrt', 'log2'],\n",
        "        'min_samples_split': [2, 5, 10],\n",
        "        'criterion' :['gini', 'entropy']}\n",
        "    \n",
        "    for n_estimators in param_grid['n_estimators']:\n",
        "        for max_depth in param_grid['max_depth']:\n",
        "            for max_features in param_grid['max_features']:\n",
        "                for min_samples_split in param_grid['min_samples_split']:\n",
        "                    for criterion in param_grid['criterion']:\n",
        "                        clf = ensemble.RandomForestClassifier(n_estimators=n_estimators, max_depth=max_depth, max_features=max_features, \n",
        "                                               min_samples_split=min_samples_split, criterion=criterion)\n",
        "\n",
        "                        X_training, y_training, X_validate, y_validate, y_predicted, y_true_val, f_measure = cross_val(data_X, data_y, class_names, downsampling, upsampling, down_prop, up_prop, clf, printing=False)\n",
        "\n",
        "                        if(f_measure > best_f):\n",
        "                            best_f = f_measure\n",
        "                            best_clf = clf\n",
        "    \n",
        "    # Create grid search object\n",
        "#     clf = model_selection.GridSearchCV(estimator=ensemble.RandomForestClassifier(), param_grid = param_grid, cv = 3, verbose=True, n_jobs=-1)\n",
        "\n",
        "#     best_clf = clf.fit(data_X, data_y.values.ravel())\n",
        "\n",
        "#     gridsearch_results = pd.DataFrame(best_clf.cv_results_)\n",
        "\n",
        "    #sort according to overall rank score to find best params\n",
        "#     best_params_found = gridsearch_results.sort_values('rank_test_score').iloc[0]\n",
        "    print(best_clf)\n",
        "    \n",
        "    return best_clf"
      ],
      "execution_count": null,
      "outputs": []
    },
    {
      "cell_type": "markdown",
      "metadata": {
        "id": "AjE8TlqdB_Nb"
      },
      "source": [
        "## Rebalancing classes"
      ]
    },
    {
      "cell_type": "markdown",
      "metadata": {
        "id": "gmrUAjWQB_Nb"
      },
      "source": [
        "### Downsampling"
      ]
    },
    {
      "cell_type": "markdown",
      "metadata": {
        "id": "WefFQOc0B_Nb"
      },
      "source": [
        "To address class imbalance by removing some examples in most numerous classes"
      ]
    },
    {
      "cell_type": "code",
      "metadata": {
        "id": "arE9VF-XB_Nb"
      },
      "source": [
        "def downsample(train_X, train_y, class_names, down_prop):\n",
        "    \n",
        "    train_data_and_labels = train_X.copy()\n",
        "    train_data_and_labels['cluster'] = train_y\n",
        "    \n",
        "    #find the largest class and the number of samples in training\n",
        "    value_counts = train_data_and_labels.cluster.value_counts()\n",
        "    max_val = max(value_counts)\n",
        "\n",
        "    most_numerous =  train_data_and_labels.cluster.value_counts().index[0]\n",
        "    big_cluster = train_data_and_labels[train_data_and_labels['cluster']==most_numerous]\n",
        "    new_train = train_data_and_labels[train_data_and_labels.cluster!=most_numerous]\n",
        "    #remove more individuals in largest class if limited classes, as class imbalance is bigger here\n",
        "    reduced_cluster = big_cluster.sample(replace=False, n=int(len(big_cluster)*down_prop), random_state=1)\n",
        "    train_down = new_train.append(reduced_cluster)\n",
        "    y_train_down = train_down['cluster']\n",
        "    X_train_down = train_down.iloc[:,0:len(train_down.columns)-1]        \n",
        "    \n",
        "    return X_train_down, y_train_down"
      ],
      "execution_count": null,
      "outputs": []
    },
    {
      "cell_type": "markdown",
      "metadata": {
        "id": "w8ZNrtXwB_Nc"
      },
      "source": [
        "### Upsampling "
      ]
    },
    {
      "cell_type": "markdown",
      "metadata": {
        "id": "UCbk76r-B_Nc"
      },
      "source": [
        "This improves the prediction accuracy for the classes containing fewer individuals."
      ]
    },
    {
      "cell_type": "code",
      "metadata": {
        "id": "n9AQ4OZXB_Nc"
      },
      "source": [
        "#upsample the least numerous classes\n",
        "def upsample(train_X, train_y, class_names, up_prop):\n",
        "    \n",
        "    train_data_and_labels = train_X.copy()\n",
        "    train_data_and_labels['cluster'] = train_y\n",
        "\n",
        "    #find the largest class and the number of samples in training\n",
        "    value_counts = train_data_and_labels.cluster.value_counts()\n",
        "    max_val = max(value_counts)\n",
        "        \n",
        "    #upsampling all the classes in training data \n",
        "    for cluster in class_names:\n",
        "        cluster_vals = train_data_and_labels[train_data_and_labels.cluster==cluster]\n",
        "        num_in_cluster = len(cluster_vals.index)\n",
        "        num_extra_samples = int(up_prop*(max_val - num_in_cluster))\n",
        "        new_samples = cluster_vals.sample(replace=True, n=num_extra_samples, random_state=1)\n",
        "        train_data_and_labels = train_data_and_labels.append(new_samples)\n",
        "            \n",
        "#     print(train_data_and_labels.cluster.value_counts())\n",
        "    \n",
        "    X_train_up = train_data_and_labels.iloc[:,0:len(train_data_and_labels.columns)-1]\n",
        "    y_train_up = train_data_and_labels['cluster']\n",
        "    \n",
        "    return X_train_up, y_train_up"
      ],
      "execution_count": null,
      "outputs": []
    },
    {
      "cell_type": "markdown",
      "metadata": {
        "id": "4yzNF924B_Nc"
      },
      "source": [
        "Set parameters"
      ]
    },
    {
      "cell_type": "code",
      "metadata": {
        "id": "L2iwXQCTB_Nc"
      },
      "source": [
        "#need to do gridsearch \n",
        "#for binary kmeans\n",
        "# clf = grid_search_rand_forest(all_X, all_y, class_names, downsampling=True, upsampling=True, down_prop=0.6, up_prop=0.8,)\n",
        "# clf= ensemble.RandomForestClassifier(criterion='gini', max_features='sqrt',\n",
        "#                        min_samples_split=10, n_estimators=40)\n",
        "\n",
        "#for severe = cluster 2 only \n",
        "# clf = grid_search_rand_forest(all_X, all_y, class_names, downsampling=True, upsampling=True, down_prop=0.6, up_prop=0.8)\n",
        "clf= ensemble.RandomForestClassifier(criterion='entropy', max_depth=10, min_samples_split=5,\n",
        "                       n_estimators=15)"
      ],
      "execution_count": null,
      "outputs": []
    },
    {
      "cell_type": "markdown",
      "metadata": {
        "id": "pzz7Zk-3B_Nc"
      },
      "source": [
        "We now have a new dataframe containing a more equal distribution of each class to work with. "
      ]
    },
    {
      "cell_type": "markdown",
      "metadata": {
        "id": "98bRqOWtB_Nc"
      },
      "source": [
        "Now we perform the k-fold cross validation on data. Since our dataset is small, the predictions can vary a lot based on which data is used for training/testing, which is why k-fold cross-val is useful to get overall prediction metrics. \n",
        "If upsampling is true then the least numerous classes will be upsampled."
      ]
    },
    {
      "cell_type": "markdown",
      "metadata": {
        "id": "smn0Ew5HB_Nc"
      },
      "source": [
        "#### Binaryclass:"
      ]
    },
    {
      "cell_type": "code",
      "metadata": {
        "id": "gK6Ev6YkB_Nd",
        "outputId": "7d89a620-93b8-41c2-a9a3-123947af0269"
      },
      "source": [
        "class_names = ['non-severe','severe'] \n",
        "X_training, y_training, X_validate, y_validate, y_predicted, y_true_val, cv_f_measure = cross_val(all_X, all_y, class_names, downsampling=True, upsampling=True, down_prop=0.6, up_prop=0.8, clf=clf, printing=False)"
      ],
      "execution_count": null,
      "outputs": [
        {
          "output_type": "stream",
          "text": [
            "cross-validating...\n",
            "              precision    recall  f1-score   support\n",
            "\n",
            "  non-severe       0.97      0.99      0.98       900\n",
            "      severe       0.56      0.30      0.39        33\n",
            "\n",
            "    accuracy                           0.97       933\n",
            "   macro avg       0.77      0.65      0.69       933\n",
            "weighted avg       0.96      0.97      0.96       933\n",
            "\n",
            "              precision    recall  f1-score   support\n",
            "\n",
            "  non-severe       0.98      0.99      0.99       900\n",
            "      severe       0.60      0.47      0.53        32\n",
            "\n",
            "    accuracy                           0.97       932\n",
            "   macro avg       0.79      0.73      0.76       932\n",
            "weighted avg       0.97      0.97      0.97       932\n",
            "\n",
            "              precision    recall  f1-score   support\n",
            "\n",
            "  non-severe       0.98      0.99      0.98       900\n",
            "      severe       0.60      0.38      0.46        32\n",
            "\n",
            "    accuracy                           0.97       932\n",
            "   macro avg       0.79      0.68      0.72       932\n",
            "weighted avg       0.97      0.97      0.97       932\n",
            "\n",
            "overall average performance:\n",
            "accuracy:  0.9692536574221021\n",
            "true positive rate/recall:  0.6863152356902358\n",
            "precision:  0.7816243349702078\n",
            "f measure:  0.7220894654465001\n"
          ],
          "name": "stdout"
        }
      ]
    }
  ]
}