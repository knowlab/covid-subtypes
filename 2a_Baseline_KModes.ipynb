{
  "nbformat": 4,
  "nbformat_minor": 0,
  "metadata": {
    "kernelspec": {
      "display_name": "Python 3",
      "language": "python",
      "name": "python3"
    },
    "language_info": {
      "codemirror_mode": {
        "name": "ipython",
        "version": 3
      },
      "file_extension": ".py",
      "mimetype": "text/x-python",
      "name": "python",
      "nbconvert_exporter": "python",
      "pygments_lexer": "ipython3",
      "version": "3.8.6"
    },
    "colab": {
      "name": "2a_Baseline_KModes.ipynb",
      "provenance": []
    }
  },
  "cells": [
    {
      "cell_type": "markdown",
      "metadata": {
        "id": "0NePrRP7x1O7"
      },
      "source": [
        "Goal: Apply KModes to discharge chapters, icu, death, oxygen therapy and length of stay to find distinct clusters."
      ]
    },
    {
      "cell_type": "code",
      "metadata": {
        "id": "cHuh9Jb8x1PE"
      },
      "source": [
        "import pandas as pd\n",
        "import numpy as np\n",
        "from sklearn.preprocessing import OneHotEncoder\n",
        "\n",
        "import sys\n",
        "!{sys.executable} -m pip install kmodes\n",
        "\n",
        "from kmodes.kmodes import KModes"
      ],
      "execution_count": null,
      "outputs": []
    },
    {
      "cell_type": "markdown",
      "metadata": {
        "id": "PfOkfEblx1PG"
      },
      "source": [
        "# Functions"
      ]
    },
    {
      "cell_type": "code",
      "metadata": {
        "id": "O9TrHG-Cx1PH"
      },
      "source": [
        "def applyKModes(data, n_clusters = 6):\n",
        "    #data must be categorical \n",
        "    np.random.seed(666)\n",
        "    \n",
        "    categories = [col + ' - ' + str(i) for col in data.columns for i in data[col].unique() if i!= 0]\n",
        "    \n",
        "    #do 10 initialisations and take the best one\n",
        "    km = KModes(n_clusters=n_clusters, init='Huang', verbose=0, n_init = 10)\n",
        "    km.fit_predict(data)\n",
        "    \n",
        "    kmodes = km.cluster_centroids_\n",
        "    shape = kmodes.shape\n",
        "    clusters = {}\n",
        "    labels = km.labels_\n",
        "    count = 0\n",
        "    for i in range(shape[0]):\n",
        "        for j in range(2797):\n",
        "            if labels[j] == i:\n",
        "                if i in clusters:\n",
        "                    clusters[i].append(j)\n",
        "                else:\n",
        "                    clusters[i] = [j]\n",
        "\n",
        "        if sum(kmodes[i,:]) == 0:\n",
        "            print(\"\\ncluster \" + str(i) + \": \" + str(len(clusters[i])) + ' patients')\n",
        "            print(\"Non-severe cluster\")\n",
        "        else:\n",
        "            print(\"\\ncluster \" + str(i) + \": \" + str(len(clusters[i])) + ' patients')\n",
        "            cent = kmodes[i,:]\n",
        "            for c, cat in zip(cent, categories):\n",
        "                if c:\n",
        "                    print(cat)\n",
        "        count += len(clusters[i])\n",
        "    \n",
        "    print('Final count: ' + str(count))\n",
        "    \n",
        "    return labels"
      ],
      "execution_count": null,
      "outputs": []
    },
    {
      "cell_type": "markdown",
      "metadata": {
        "id": "Cc58dBWBx1PI"
      },
      "source": [
        "# Data"
      ]
    },
    {
      "cell_type": "code",
      "metadata": {
        "id": "_WXL99QRx1PJ"
      },
      "source": [
        "disch_chaps = pd.read_csv('discharge_chapters_simple.csv', usecols = ['Blood/Immune', 'Circulatory', \"Abnormal\", \"Musculoskeletal\", \"Genitourinary\", \"Nutritional\", \"Nervous\", \"Respiratory\", \"Digestive\"])\n",
        "disch_chaps = disch_chaps.applymap(lambda x:True if x >= 1 else False)\n",
        "disch_chaps.head()"
      ],
      "execution_count": null,
      "outputs": []
    },
    {
      "cell_type": "code",
      "metadata": {
        "id": "1fJLJnMmx1PJ"
      },
      "source": [
        "other_features = pd.read_csv('combined_clean.csv', usecols = ['id', 'ICU', 'death', 'Oxygen therapy - face mask', 'Oxygen therapy - high flow', 'Oxygen therapy - ventilator', 'Oxygen therapy - intubation', 'ECMO', 'Noninvasive ventilation', 'Invasive ventilation', 'Methylprednisolone', 'Norepinephrine', 'los']).fillna(0)\n",
        "other_features.head()"
      ],
      "execution_count": null,
      "outputs": []
    },
    {
      "cell_type": "markdown",
      "metadata": {
        "id": "MBHRiFLPx1PK"
      },
      "source": [
        "# 1. Just discharge codes"
      ]
    },
    {
      "cell_type": "code",
      "metadata": {
        "scrolled": true,
        "id": "2gF7WPq6x1PK"
      },
      "source": [
        "disch_6 = applyKModes(disch_chaps)"
      ],
      "execution_count": null,
      "outputs": []
    },
    {
      "cell_type": "code",
      "metadata": {
        "scrolled": true,
        "id": "cZJ8qjk1x1PL"
      },
      "source": [
        "disch_8 = applyKModes(disch_chaps, 8)"
      ],
      "execution_count": null,
      "outputs": []
    },
    {
      "cell_type": "code",
      "metadata": {
        "scrolled": true,
        "id": "jYlvkbaOx1PL"
      },
      "source": [
        "disch_10 = applyKModes(disch_chaps, 10)"
      ],
      "execution_count": null,
      "outputs": []
    },
    {
      "cell_type": "markdown",
      "metadata": {
        "id": "DirWal8Vx1PM"
      },
      "source": [
        "# 2. Discharge chapters, ICU & death"
      ]
    },
    {
      "cell_type": "code",
      "metadata": {
        "id": "-1E-Pfahx1PM"
      },
      "source": [
        "disch_poor = pd.concat([disch_chaps, other_features[['ICU', 'death']]], axis=1).applymap(lambda x: True if x else False)\n",
        "disch_poor.head()"
      ],
      "execution_count": null,
      "outputs": []
    },
    {
      "cell_type": "code",
      "metadata": {
        "scrolled": true,
        "id": "Emdkkpcvx1PM"
      },
      "source": [
        "disch_poor_6 = applyKModes(disch_poor)"
      ],
      "execution_count": null,
      "outputs": []
    },
    {
      "cell_type": "code",
      "metadata": {
        "scrolled": true,
        "id": "-6up2GyVx1PN"
      },
      "source": [
        "disch_poor_8 = applyKModes(disch_poor, 8) "
      ],
      "execution_count": null,
      "outputs": []
    },
    {
      "cell_type": "code",
      "metadata": {
        "scrolled": true,
        "id": "rOUrZd43x1PN"
      },
      "source": [
        "disch_poor_10 = applyKModes(disch_poor, 10)"
      ],
      "execution_count": null,
      "outputs": []
    },
    {
      "cell_type": "markdown",
      "metadata": {
        "id": "iLeAf9R2x1PO"
      },
      "source": [
        "# 3. Discharge codes, ICU, death & oxygen therapy"
      ]
    },
    {
      "cell_type": "markdown",
      "metadata": {
        "id": "aI53EmK3x1PO"
      },
      "source": [
        "Let's categorise oxygen therapy 3 possible ways: noninvasive, invasive or ECMO."
      ]
    },
    {
      "cell_type": "code",
      "metadata": {
        "id": "J3NEAQnvx1PO"
      },
      "source": [
        "oxygen_therapies = pd.DataFrame(columns = ['Oxygen therapy - noninvasive', 'Oxygen therapy - invasive'])\n",
        "oxygen_therapies['Oxygen therapy - noninvasive'] = (other_features['Oxygen therapy - face mask'] + other_features['Oxygen therapy - high flow'] + other_features['Noninvasive ventilation']) > 0\n",
        "oxygen_therapies['Oxygen therapy - invasive'] = (other_features['Oxygen therapy - intubation'] + other_features['Oxygen therapy - ventilator'] + other_features['Invasive ventilation']) > 0"
      ],
      "execution_count": null,
      "outputs": []
    },
    {
      "cell_type": "code",
      "metadata": {
        "id": "unaeAmYPx1PP"
      },
      "source": [
        "disch_oxy = pd.concat([disch_poor, oxygen_therapies, other_features[['ECMO']]], axis=1).applymap(lambda x: True if x else False)\n",
        "disch_oxy.head()"
      ],
      "execution_count": null,
      "outputs": []
    },
    {
      "cell_type": "code",
      "metadata": {
        "scrolled": true,
        "id": "fHx8wteWx1PP"
      },
      "source": [
        "disch_oxy_6 = applyKModes(disch_oxy)"
      ],
      "execution_count": null,
      "outputs": []
    },
    {
      "cell_type": "code",
      "metadata": {
        "scrolled": true,
        "id": "5yBQile2x1PP"
      },
      "source": [
        "disch_oxy_8 = applyKModes(disch_oxy, 8)"
      ],
      "execution_count": null,
      "outputs": []
    },
    {
      "cell_type": "code",
      "metadata": {
        "scrolled": true,
        "id": "gTPYZzasx1PQ"
      },
      "source": [
        "disch_oxy_10 = applyKModes(disch_oxy, 10)"
      ],
      "execution_count": null,
      "outputs": []
    },
    {
      "cell_type": "markdown",
      "metadata": {
        "id": "Hmfl6hXVx1PQ"
      },
      "source": [
        "# 4. Discharge chapters, ICU, death, oxygen therapy & length of stay"
      ]
    },
    {
      "cell_type": "code",
      "metadata": {
        "id": "q-cwmO1Ux1PQ"
      },
      "source": [
        "#Make a length of stay dataframe with 2 columns\n",
        "length_of_stay = pd.DataFrame(columns = ['id', 'los:2-4weeks', 'los:4weeks+'])\n",
        "length_of_stay.id = other_features.id\n",
        "for col in ['los:2-4weeks', 'los:4weeks+']:\n",
        "    length_of_stay[col].values[:] = False"
      ],
      "execution_count": null,
      "outputs": []
    },
    {
      "cell_type": "code",
      "metadata": {
        "id": "earTJ7pOx1PR"
      },
      "source": [
        "for id_num, length in zip(other_features.id, other_features.los):\n",
        "    if length in list(range(14, 28)):\n",
        "        length_of_stay.loc[length_of_stay.id == id_num, 'los:2-4weeks'] = True\n",
        "    elif length >= 28:\n",
        "        length_of_stay.loc[length_of_stay.id == id_num, 'los:4weeks+'] = True\n",
        "        \n",
        "length_of_stay.drop(columns = 'id', inplace = True)\n",
        "length_of_stay.head()"
      ],
      "execution_count": null,
      "outputs": []
    },
    {
      "cell_type": "code",
      "metadata": {
        "id": "VOJU2Bvhx1PR"
      },
      "source": [
        "disch_los = pd.concat([disch_oxy, length_of_stay], axis=1)\n",
        "disch_los.head()"
      ],
      "execution_count": null,
      "outputs": []
    },
    {
      "cell_type": "code",
      "metadata": {
        "scrolled": true,
        "id": "FFmWBEZpx1PR"
      },
      "source": [
        "disch_los_6 = applyKModes(disch_los)"
      ],
      "execution_count": null,
      "outputs": []
    },
    {
      "cell_type": "code",
      "metadata": {
        "scrolled": true,
        "id": "5vm6jfIux1PS"
      },
      "source": [
        "disch_los_8 = applyKModes(disch_los, 8)"
      ],
      "execution_count": null,
      "outputs": []
    },
    {
      "cell_type": "code",
      "metadata": {
        "scrolled": true,
        "id": "XNT5JwFax1PS"
      },
      "source": [
        "disch_los_10 = applyKModes(disch_los, 10)"
      ],
      "execution_count": null,
      "outputs": []
    },
    {
      "cell_type": "code",
      "metadata": {
        "id": "MEbue3QBx1PS"
      },
      "source": [
        "id_nums = pd.read_csv('discharge_chapters_simple.csv', usecols = ['id'], squeeze = True).tolist()\n",
        "kmodes_clusters = pd.DataFrame({'id':id_nums, 'disch_6': disch_6, 'disch_8': disch_8, 'disch_10':disch_10, 'disch_poor_6':disch_poor_6, 'disch_poor_8':disch_poor_8, 'disch_poor_10':disch_poor_10, 'disch_oxy_6':disch_oxy_6, 'disch_oxy_8':disch_oxy_8, 'disch_oxy_10':disch_oxy_10, 'disch_los_6':disch_los_6, 'disch_los_8':disch_los_8, 'disch_los_10':disch_los_10})\n",
        "kmodes_clusters.head()\n",
        "kmodes_clusters.to_csv('kmodes_clusters.csv')"
      ],
      "execution_count": null,
      "outputs": []
    },
    {
      "cell_type": "code",
      "metadata": {
        "id": "UZ0m_EG4x1PS"
      },
      "source": [
        "kmodes_clusters.head()"
      ],
      "execution_count": null,
      "outputs": []
    }
  ]
}
